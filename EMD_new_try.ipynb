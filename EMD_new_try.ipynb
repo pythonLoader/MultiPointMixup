{
 "cells": [
  {
   "cell_type": "code",
   "execution_count": 1,
   "metadata": {},
   "outputs": [],
   "source": [
    "# import ot\n",
    "# import numpy as np\n",
    "import torch\n",
    "from emd_ import emd_module\n",
    "EMD = emd_module.emdModule()"
   ]
  },
  {
   "cell_type": "code",
   "execution_count": 2,
   "metadata": {},
   "outputs": [],
   "source": [
    "from emd import earth_mover_distance"
   ]
  },
  {
   "cell_type": "code",
   "execution_count": 2,
   "metadata": {},
   "outputs": [
    {
     "name": "stdout",
     "output_type": "stream",
     "text": [
      "6\n"
     ]
    }
   ],
   "source": [
    "print(torch.cuda.device_count())\n",
    "device = torch.device(\"cuda:1\")"
   ]
  },
  {
   "cell_type": "code",
   "execution_count": 4,
   "metadata": {},
   "outputs": [],
   "source": [
    "import numpy as np\n",
    "data = torch.from_numpy(np.load(\"Data_for_viz/data_unmixed_3.npy\")).to(device)\n",
    "label = torch.from_numpy(np.load(\"Data_for_viz/label_unmixed_3.npy\")).to(device)\n",
    "saliency = torch.from_numpy(np.load(\"Data_for_viz/saliency_3.npy\")).to(device)"
   ]
  },
  {
   "cell_type": "code",
   "execution_count": 5,
   "metadata": {},
   "outputs": [],
   "source": [
    "n_mix = 2\n",
    "xyz = data\n",
    "B, N, _ = xyz.shape\n",
    "idxs = torch.stack([torch.randperm(B) for _ in range(n_mix)])\n",
    "xyzs = torch.zeros((n_mix, B, N, 3)).cuda()\n",
    "for i in range(n_mix):\n",
    "    if i == 0: xyzs[i] = xyz\n",
    "    else:\n",
    "        xyzs[i] = xyz[idxs[i]]\n",
    "all_xyz = torch.zeros((n_mix, B, N, 3)).cuda()\n",
    "all_xyz[0] = xyzs[0]"
   ]
  },
  {
   "cell_type": "code",
   "execution_count": 8,
   "metadata": {},
   "outputs": [
    {
     "name": "stdout",
     "output_type": "stream",
     "text": [
      "tensor([771,  79, 392,  ..., 689, 989, 493], device='cuda:0',\n",
      "       dtype=torch.int32)\n"
     ]
    }
   ],
   "source": [
    "xyz = xyzs[0]\n",
    "perm = xyzs[1]\n",
    "d, ass = EMD(xyz, perm, 0.005, 500) # mapping\n",
    "print(ass[0])\n"
   ]
  },
  {
   "cell_type": "code",
   "execution_count": 6,
   "metadata": {},
   "outputs": [
    {
     "name": "stdout",
     "output_type": "stream",
     "text": [
      "torch.Size([24, 1024, 3]) torch.Size([24, 1024, 3])\n",
      "changing library\n",
      "torch.Size([24, 1024, 1024])\n"
     ]
    }
   ],
   "source": [
    "# Optimal Transport based EMD assignment\n",
    "print(xyzs[0].shape,xyzs[1].shape)\n",
    "d = earth_mover_distance(xyzs[0], xyzs[1],transpose=False)\n",
    "# M = ot.dist(xyzs[0], xyzs[1])\n",
    "# print(M.shape)\n"
   ]
  },
  {
   "cell_type": "code",
   "execution_count": 8,
   "metadata": {},
   "outputs": [
    {
     "name": "stdout",
     "output_type": "stream",
     "text": [
      "torch.Size([24])\n"
     ]
    }
   ],
   "source": [
    "print(d.shape)"
   ]
  },
  {
   "cell_type": "code",
   "execution_count": 9,
   "metadata": {},
   "outputs": [
    {
     "name": "stdout",
     "output_type": "stream",
     "text": [
      "tensor([ 358.6231,  424.8849,  307.5959,  635.6082,  652.8292,  558.6577,\n",
      "        1106.7166,  591.5853,  271.6993, 1110.3717,  674.7792,  290.4053,\n",
      "         858.5741,  666.2294,  449.1669,  577.8858,  407.2739,  325.1665,\n",
      "         509.3270,  430.9633,  747.3992,  330.3791,  453.3828,  642.6151],\n",
      "       device='cuda:0')\n"
     ]
    }
   ],
   "source": [
    "print(d)"
   ]
  },
  {
   "cell_type": "code",
   "execution_count": 10,
   "metadata": {},
   "outputs": [
    {
     "name": "stdout",
     "output_type": "stream",
     "text": [
      "<class 'numpy.ndarray'> <class 'numpy.ndarray'>\n"
     ]
    }
   ],
   "source": [
    "print(type(xyzs[0]),type(xyzs[1]))"
   ]
  },
  {
   "cell_type": "code",
   "execution_count": null,
   "metadata": {},
   "outputs": [],
   "source": []
  }
 ],
 "metadata": {
  "kernelspec": {
   "display_name": "SageMix",
   "language": "python",
   "name": "python3"
  },
  "language_info": {
   "codemirror_mode": {
    "name": "ipython",
    "version": 3
   },
   "file_extension": ".py",
   "mimetype": "text/x-python",
   "name": "python",
   "nbconvert_exporter": "python",
   "pygments_lexer": "ipython3",
   "version": "3.7.6"
  },
  "orig_nbformat": 4,
  "vscode": {
   "interpreter": {
    "hash": "c7e43317eb3113a636e59ebf4e4d52ed79ac7360830f592e9d05ab9479dd90e4"
   }
  }
 },
 "nbformat": 4,
 "nbformat_minor": 2
}
