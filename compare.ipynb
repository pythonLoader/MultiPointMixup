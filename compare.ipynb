{
 "cells": [
  {
   "cell_type": "code",
   "execution_count": 1,
   "metadata": {},
   "outputs": [],
   "source": [
    "import torch"
   ]
  },
  {
   "cell_type": "code",
   "execution_count": 2,
   "metadata": {},
   "outputs": [],
   "source": [
    "model1_weights = torch.load('nmix_weights.pth')\n",
    "model2_weights = torch.load('sagemix_weights.pth')"
   ]
  },
  {
   "cell_type": "code",
   "execution_count": 4,
   "metadata": {},
   "outputs": [
    {
     "name": "stdout",
     "output_type": "stream",
     "text": [
      "Weights of module.bn1.weight are the same in both models.\n",
      "Weights of module.bn1.bias are the same in both models.\n",
      "Weights of module.bn1.running_mean are the same in both models.\n",
      "Weights of module.bn1.running_var are the same in both models.\n",
      "Weights of module.bn1.num_batches_tracked are the same in both models.\n",
      "Weights of module.bn2.weight are the same in both models.\n",
      "Weights of module.bn2.bias are the same in both models.\n",
      "Weights of module.bn2.running_mean are the same in both models.\n",
      "Weights of module.bn2.running_var are the same in both models.\n",
      "Weights of module.bn2.num_batches_tracked are the same in both models.\n",
      "Weights of module.bn3.weight are the same in both models.\n",
      "Weights of module.bn3.bias are the same in both models.\n",
      "Weights of module.bn3.running_mean are the same in both models.\n",
      "Weights of module.bn3.running_var are the same in both models.\n",
      "Weights of module.bn3.num_batches_tracked are the same in both models.\n",
      "Weights of module.bn4.weight are the same in both models.\n",
      "Weights of module.bn4.bias are the same in both models.\n",
      "Weights of module.bn4.running_mean are the same in both models.\n",
      "Weights of module.bn4.running_var are the same in both models.\n",
      "Weights of module.bn4.num_batches_tracked are the same in both models.\n",
      "Weights of module.bn5.weight are the same in both models.\n",
      "Weights of module.bn5.bias are the same in both models.\n",
      "Weights of module.bn5.running_mean are the same in both models.\n",
      "Weights of module.bn5.running_var are the same in both models.\n",
      "Weights of module.bn5.num_batches_tracked are the same in both models.\n",
      "Weights of module.conv1.0.weight are the same in both models.\n",
      "Weights of module.conv1.1.weight are the same in both models.\n",
      "Weights of module.conv1.1.bias are the same in both models.\n",
      "Weights of module.conv1.1.running_mean are the same in both models.\n",
      "Weights of module.conv1.1.running_var are the same in both models.\n",
      "Weights of module.conv1.1.num_batches_tracked are the same in both models.\n",
      "Weights of module.conv2.0.weight are the same in both models.\n",
      "Weights of module.conv2.1.weight are the same in both models.\n",
      "Weights of module.conv2.1.bias are the same in both models.\n",
      "Weights of module.conv2.1.running_mean are the same in both models.\n",
      "Weights of module.conv2.1.running_var are the same in both models.\n",
      "Weights of module.conv2.1.num_batches_tracked are the same in both models.\n",
      "Weights of module.conv3.0.weight are the same in both models.\n",
      "Weights of module.conv3.1.weight are the same in both models.\n",
      "Weights of module.conv3.1.bias are the same in both models.\n",
      "Weights of module.conv3.1.running_mean are the same in both models.\n",
      "Weights of module.conv3.1.running_var are the same in both models.\n",
      "Weights of module.conv3.1.num_batches_tracked are the same in both models.\n",
      "Weights of module.conv4.0.weight are the same in both models.\n",
      "Weights of module.conv4.1.weight are the same in both models.\n",
      "Weights of module.conv4.1.bias are the same in both models.\n",
      "Weights of module.conv4.1.running_mean are the same in both models.\n",
      "Weights of module.conv4.1.running_var are the same in both models.\n",
      "Weights of module.conv4.1.num_batches_tracked are the same in both models.\n",
      "Weights of module.conv5.0.weight are the same in both models.\n",
      "Weights of module.conv5.1.weight are the same in both models.\n",
      "Weights of module.conv5.1.bias are the same in both models.\n",
      "Weights of module.conv5.1.running_mean are the same in both models.\n",
      "Weights of module.conv5.1.running_var are the same in both models.\n",
      "Weights of module.conv5.1.num_batches_tracked are the same in both models.\n",
      "Weights of module.linear1.weight are the same in both models.\n",
      "Weights of module.bn6.weight are the same in both models.\n",
      "Weights of module.bn6.bias are the same in both models.\n",
      "Weights of module.bn6.running_mean are the same in both models.\n",
      "Weights of module.bn6.running_var are the same in both models.\n",
      "Weights of module.bn6.num_batches_tracked are the same in both models.\n",
      "Weights of module.linear2.weight are the same in both models.\n",
      "Weights of module.linear2.bias are the same in both models.\n",
      "Weights of module.bn7.weight are the same in both models.\n",
      "Weights of module.bn7.bias are the same in both models.\n",
      "Weights of module.bn7.running_mean are the same in both models.\n",
      "Weights of module.bn7.running_var are the same in both models.\n",
      "Weights of module.bn7.num_batches_tracked are the same in both models.\n",
      "Weights of module.linear3.weight are the same in both models.\n",
      "Weights of module.linear3.bias are the same in both models.\n"
     ]
    }
   ],
   "source": [
    "for (key1, param1), (key2, param2) in zip(model1_weights.items(), model2_weights.items()):\n",
    "    if torch.equal(param1, param2):\n",
    "        print(f'Weights of {key1} are the same in both models.')\n",
    "    # else:\n",
    "    #     print(f'Weights of {key1} are NOT the same in both models.')"
   ]
  },
  {
   "cell_type": "code",
   "execution_count": null,
   "metadata": {},
   "outputs": [],
   "source": []
  }
 ],
 "metadata": {
  "kernelspec": {
   "display_name": "mixit",
   "language": "python",
   "name": "python3"
  },
  "language_info": {
   "codemirror_mode": {
    "name": "ipython",
    "version": 3
   },
   "file_extension": ".py",
   "mimetype": "text/x-python",
   "name": "python",
   "nbconvert_exporter": "python",
   "pygments_lexer": "ipython3",
   "version": "3.8.16"
  },
  "orig_nbformat": 4
 },
 "nbformat": 4,
 "nbformat_minor": 2
}
