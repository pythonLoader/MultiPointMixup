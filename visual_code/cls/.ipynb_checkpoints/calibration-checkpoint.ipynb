{
 "cells": [
  {
   "cell_type": "code",
   "execution_count": 63,
   "id": "75a86fc1-2621-4dbf-8478-a0fd495a517c",
   "metadata": {},
   "outputs": [],
   "source": [
    "import os\n",
    "os.environ[\"CUDA_DEVICE_ORDER\"]=\"PCI_BUS_ID\"   # see issue #152\n",
    "os.environ[\"CUDA_VISIBLE_DEVICES\"]=\"4\"\n",
    "\n",
    "import argparse\n",
    "import torch\n",
    "import torch.nn as nn\n",
    "from torch.utils.data import DataLoader\n",
    "import pyvista as pv\n",
    "import numpy as np\n",
    "import torch.optim as optim\n",
    "\n",
    "import _init_path\n",
    "from torch.autograd import Variable\n",
    "from cls.data import ModelNet40, ScanObjectNN\n",
    "from util import cal_loss\n",
    "\n",
    "from cls.model_mixup import PointNet, DGCNN, Pointnet2_MSG\n",
    "\n",
    "\n",
    "parser = argparse.ArgumentParser(description='Point Cloud Recognition')\n",
    "parser.add_argument('--model', type=str, default='dgcnn', metavar='N',\n",
    "                    choices=['pointnet', 'dgcnn', 'pointnet2_MSG'],\n",
    "                    help='Model to use, [pointnet, dgcnn]')\n",
    "parser.add_argument('--data', type=str, default='MN40', metavar='N',\n",
    "                    choices=['MN40', 'SONN_EASY', 'SONN_HARD'])\n",
    "parser.add_argument('--batch_size', type=int, default=16, metavar='batch_size',\n",
    "                    help='Size of batch)')\n",
    "parser.add_argument('--test_batch_size', type=int, default=128, metavar='batch_size',\n",
    "                    help='Size of batch)')\n",
    "parser.add_argument('--epochs', type=int, default=250, metavar='N',\n",
    "                    help='number of episode to train ')\n",
    "parser.add_argument('--optim', type=str, default=\"sgd\",\n",
    "                    choices=['sgd', 'adam'],\n",
    "                    help='Optimizer, [sgd, adam]')\n",
    "parser.add_argument('--lr', type=float, default=0.001, metavar='LR',\n",
    "                    help='learning rate (default: 0.001, 0.1 if using sgd)')\n",
    "parser.add_argument('--momentum', type=float, default=0.9, metavar='M',\n",
    "                    help='SGD momentum (default: 0.9)')\n",
    "parser.add_argument('--scheduler', type=str, default='cos', metavar='N',\n",
    "                    choices=['cos', 'step'],\n",
    "                    help='Scheduler to use, [cos, step]')\n",
    "parser.add_argument('--no_cuda', type=bool, default=False,\n",
    "                    help='enables CUDA training')\n",
    "parser.add_argument('--seed', type=int, default=1, metavar='S',\n",
    "                    help='random seed (default: 1)')\n",
    "parser.add_argument('--eval', type=bool,  default=False,\n",
    "                    help='evaluate the model')\n",
    "parser.add_argument('--num_points', type=int, default=1024,\n",
    "                    help='num of points to use')\n",
    "parser.add_argument('--dropout', type=float, default=0.5,\n",
    "                    help='initial dropout rate')\n",
    "parser.add_argument('--emb_dims', type=int, default=1024, metavar='N',\n",
    "                    help='Dimension of embeddings')\n",
    "parser.add_argument('--k', type=int, default=20, metavar='N',\n",
    "                    help='Num of nearest neighbors to use')\n",
    "parser.add_argument('--model_path', type=str, default='', metavar='N',\n",
    "                    help='Pretrained model path')\n",
    "\n",
    "parser.add_argument('--aug', type=str, default='default', metavar='N',\n",
    "                    choices=['default', 'MN40'])\n",
    "parser.add_argument(\"--kermix\", type=bool, default= False)    \n",
    "parser.add_argument(\"--manimix\", type=bool, default=False) \n",
    "parser.add_argument('--sigma', type=float, default=0.3) \n",
    "parser.add_argument('--beta', type=float, default=5.)  \n",
    "parser.add_argument('--no_saliency', action='store_true')\n",
    "parser.add_argument('--smoothing_k', type=int, default=20) \n",
    "parser.add_argument('--temperature', type=float, default=2)\n",
    "parser.add_argument('--temperature2', type=float, default=1)  \n",
    "parser.add_argument('--sample_ver', type=int, default=3) \n",
    "args = parser.parse_args([])\n",
    "\n",
    "\n",
    "num_class = 15\n",
    "\n",
    "loader = DataLoader(ScanObjectNN(partition='test', num_points=args.num_points, aug=args.aug, ver=\"easy\"), num_workers=4,\n",
    "                                batch_size=args.test_batch_size, shuffle=True, drop_last=False)\n",
    "\n",
    "device = torch.device(\"cuda\")\n",
    "\n",
    "model = DGCNN(args, num_class).to(device)\n",
    "# model = PointNet(args, num_class).to(device)\n",
    "model =  nn.DataParallel(model)\n",
    "model.load_state_dict(torch.load(\"outputs/SONN_EASY_base/models/model.t7\"))\n",
    "# model.load_state_dict(torch.load(\"cls/outputs/pointnet_base_MN40/models/model.t7\"))\n",
    "model = model.module\n",
    "model.eval()\n",
    "\n",
    "\n",
    "model_our = DGCNN(args, num_class).to(device)\n",
    "# model = PointNet(args, num_class).to(device)\n",
    "model_our =  nn.DataParallel(model_our)\n",
    "model_our.load_state_dict(torch.load(\"outputs/sample_ver3_dgcnn_SONN_EASY_0.1_beta0.4/models/model.t7\"))\n",
    "# model.load_state_dict(torch.load(\"cls/outputs/pointnet_base_MN40/models/model.t7\"))\n",
    "model_our = model_our.module\n",
    "model_our.eval()\n",
    "\n",
    "pass\n",
    "    "
   ]
  },
  {
   "cell_type": "code",
   "execution_count": 2,
   "id": "13723239-6e2e-4c30-b52a-ce2ff8d336bc",
   "metadata": {},
   "outputs": [
    {
     "data": {
      "text/plain": [
       "<All keys matched successfully>"
      ]
     },
     "execution_count": 2,
     "metadata": {},
     "output_type": "execute_result"
    }
   ],
   "source": [
    "from cls.model import DGCNN\n",
    "model_RS = DGCNN(args, num_class).to(device)\n",
    "# model = PointNet(args, num_class).to(device)\n",
    "model_RS =  nn.DataParallel(model_RS)\n",
    "model_RS = model_RS.module\n",
    "model_RS.eval()\n",
    "\n",
    "model_RS.load_state_dict(torch.load(\"../../RSMix/dgcnn_rsmix/checkpoints/baseRSmix_rotjit_dgcnn_SONN_EASY/models/model.t7\"))"
   ]
  },
  {
   "cell_type": "code",
   "execution_count": 166,
   "id": "4818d15c-9a1a-4f1d-be41-06429449cb11",
   "metadata": {},
   "outputs": [
    {
     "name": "stderr",
     "output_type": "stream",
     "text": [
      "/tmp/ipykernel_22075/3506682664.py:21: UserWarning: __floordiv__ is deprecated, and its behavior will change in a future version of pytorch. It currently rounds toward 0 (like the 'trunc' function NOT 'floor'). This results in incorrect rounding for negative values. To keep the current behavior, use torch.div(a, b, rounding_mode='trunc'), or for actual floor division, use torch.div(a, b, rounding_mode='floor').\n",
      "  bin_index = int(((conf * 100) // (100/num_bins)).cpu())\n"
     ]
    },
    {
     "name": "stdout",
     "output_type": "stream",
     "text": [
      "tensor(0.0728) tensor(0.0003)\n"
     ]
    }
   ],
   "source": [
    "num_bins = 50\n",
    "counts = [0 for _ in range(num_bins+1)]\n",
    "acc_counts = [0 for _ in range(num_bins+1)]\n",
    "conf_counts = [0 for _ in range(num_bins+1)]\n",
    "\n",
    "\n",
    "acc_counts_our = [0 for _ in range(num_bins+1)]\n",
    "conf_counts_our = [0 for _ in range(num_bins+1)]\n",
    "\n",
    "n = float(len(loader.dataset))*10\n",
    "\n",
    "for i in range(10):\n",
    "    for data, label in loader:\n",
    "        data, label = data.to(device), label.to(device).squeeze()\n",
    "        batch_size = data.size()[0]\n",
    "\n",
    "        count+= batch_size\n",
    "\n",
    "        with torch.no_grad():\n",
    "            logits, _ = model(data.permute(0,2,1), mixup=False)\n",
    "            # logits= model_RS(data.permute(0,2,1))\n",
    "            probabilities = torch.nn.functional.softmax(logits, dim=1)\n",
    "            confs, preds = probabilities.max(1)\n",
    "            for (conf, pred, target) in zip(confs, preds, label):\n",
    "                bin_index = int(((conf * 100) // (100/num_bins)).cpu())\n",
    "                try:\n",
    "                    if pred == target:\n",
    "                        acc_counts[bin_index] += 1.0\n",
    "                    conf_counts[bin_index] += conf.cpu()\n",
    "                    counts[bin_index] += 1.0\n",
    "                except:\n",
    "                    print(bin_index, conf)\n",
    "                    raise AssertionError('Bin index out of range!')\n",
    "            logits, _ = model_our(data.permute(0,2,1), mixup=False)\n",
    "            # logits= model_RS(data.permute(0,2,1))\n",
    "            probabilities = torch.nn.functional.softmax(logits, dim=1)\n",
    "            confs, preds = probabilities.max(1)\n",
    "            for (conf, pred, target) in zip(confs, preds, label):\n",
    "                bin_index = int(((conf * 100) // (100/num_bins)).cpu())\n",
    "                try:\n",
    "                    if pred == target:\n",
    "                        acc_counts_our[bin_index] += 1.0\n",
    "                    conf_counts_our[bin_index] += conf.cpu()\n",
    "                    counts[bin_index] += 1.0\n",
    "                except:\n",
    "                    print(bin_index, conf)\n",
    "                    raise AssertionError('Bin index out of range!')\n",
    "                \n",
    "avg_acc = [0 if count == 0 else acc_count / count for acc_count, count in zip(acc_counts, counts)]\n",
    "avg_conf = [0 if count == 0 else conf_count / count for conf_count, count in zip(conf_counts, counts)]\n",
    "ECE, OE = 0, 0\n",
    "for i in range(num_bins):\n",
    "    ECE += (counts[i] / n) * abs(avg_acc[i] - avg_conf[i])\n",
    "    OE += (counts[i] / n) * (avg_conf[i] * (max(avg_conf[i] - avg_acc[i], 0)))\n",
    "    \n",
    "print(ECE, OE)"
   ]
  },
  {
   "cell_type": "code",
   "execution_count": null,
   "id": "f76d0eb3-9468-42f9-ae12-df173ba5fe6b",
   "metadata": {},
   "outputs": [],
   "source": []
  },
  {
   "cell_type": "code",
   "execution_count": 163,
   "id": "b6291cf9-0ca9-44ba-8a73-b131e1cf4298",
   "metadata": {},
   "outputs": [
    {
     "data": {
      "text/plain": [
       "[Text(0.5, 0, 'avg_conf'), Text(0, 0.5, 'avg_acc')]"
      ]
     },
     "execution_count": 163,
     "metadata": {},
     "output_type": "execute_result"
    },
    {
     "data": {
      "image/png": "[encoded data removed]",
      "text/plain": [
       "<Figure size 432x432 with 1 Axes>"
      ]
     },
     "metadata": {
      "needs_background": "light"
     },
     "output_type": "display_data"
    }
   ],
   "source": [
    "import matplotlib.pyplot as plt\n",
    "import seaborn as sns\n",
    "import matplotlib.lines as mlines\n",
    "\n",
    "fig, ax = plt.subplots(figsize=(6,6))\n",
    "ax.set_xlim((0, 1))\n",
    "ax.set_ylim((0, 1))\n",
    "line = mlines.Line2D([0, 1], [0, 1], color='red', linewidth=3)\n",
    "sns.scatterplot(avg_conf, avg_acc, ax=ax, size=avg_acc, sizes=(50, 50), alpha=0.8, marker = \"s\", color=\"b\")\n",
    "# transform = ax.transAxes\n",
    "# line.set_transform(transform)\n",
    "ax.get_legend().remove()\n",
    "ax.add_line(line)\n",
    "ax.set(xlabel=\"avg_conf\", ylabel=\"avg_acc\")"
   ]
  },
  {
   "cell_type": "code",
   "execution_count": 162,
   "id": "eaec5216-dba0-4bd1-87ab-484a50898e83",
   "metadata": {},
   "outputs": [
    {
     "data": {
      "text/plain": [
       "[Text(0.5, 0, 'avg_conf'), Text(0, 0.5, 'avg_acc')]"
      ]
     },
     "execution_count": 164,
     "metadata": {},
     "output_type": "execute_result"
    },
    {
     "data": {
      "image/png": "[encoded data removed]",
      "text/plain": [
       "<Figure size 432x432 with 1 Axes>"
      ]
     },
     "metadata": {
      "needs_background": "light"
     },
     "output_type": "display_data"
    }
   ],
   "source": [
    "fig, ax = plt.subplots(figsize=(6,6))\n",
    "ax.set_xlim((0, 1))\n",
    "ax.set_ylim((0, 1))\n",
    "line = mlines.Line2D([0, 1], [0, 1], color='red', linewidth=3)\n",
    "plt.plot(avg_conf[4:-2], avg_acc[4:-2], color=\"b\", marker=\"s\")\n",
    "# transform = ax.transAxes\n",
    "# line.set_transform(transform)\n",
    "# ax.get_legend().remove()\n",
    "ax.add_line(line)\n",
    "ax.set(xlabel=\"avg_conf\", ylabel=\"avg_acc\")"
   ]
  },
  {
   "cell_type": "code",
   "execution_count": 146,
   "id": "4684b397-ec26-4486-9d32-cc05392dfc4b",
   "metadata": {},
   "outputs": [
    {
     "data": {
      "text/plain": [
       "[0,\n",
       " 0,\n",
       " 0,\n",
       " tensor(0.1493),\n",
       " tensor(0.1834),\n",
       " tensor(0.2189),\n",
       " tensor(0.2629),\n",
       " tensor(0.3000),\n",
       " tensor(0.3411),\n",
       " tensor(0.3796),\n",
       " tensor(0.4192),\n",
       " tensor(0.4620),\n",
       " tensor(0.5012),\n",
       " tensor(0.5413),\n",
       " tensor(0.5824),\n",
       " tensor(0.6200),\n",
       " tensor(0.6618),\n",
       " tensor(0.7010),\n",
       " tensor(0.7415),\n",
       " tensor(0.7817),\n",
       " tensor(0.8186),\n",
       " tensor(0.8570),\n",
       " tensor(0.8931),\n",
       " tensor(0.9245),\n",
       " 0,\n",
       " 0]"
      ]
     },
     "execution_count": 146,
     "metadata": {},
     "output_type": "execute_result"
    }
   ],
   "source": [
    "avg_conf"
   ]
  }
 ],
 "metadata": {
  "kernelspec": {
   "display_name": "Python 3 (ipykernel)",
   "language": "python",
   "name": "python3"
  },
  "language_info": {
   "codemirror_mode": {
    "name": "ipython",
    "version": 3
   },
   "file_extension": ".py",
   "mimetype": "text/x-python",
   "name": "python",
   "nbconvert_exporter": "python",
   "pygments_lexer": "ipython3",
   "version": "3.9.7"
  }
 },
 "nbformat": 4,
 "nbformat_minor": 5
}
