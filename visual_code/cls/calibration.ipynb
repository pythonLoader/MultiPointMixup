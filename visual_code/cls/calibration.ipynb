{
 "cells": [
  {
   "cell_type": "code",
   "execution_count": 1,
   "id": "75a86fc1-2621-4dbf-8478-a0fd495a517c",
   "metadata": {},
   "outputs": [],
   "source": [
    "import os\n",
    "os.environ[\"CUDA_DEVICE_ORDER\"]=\"PCI_BUS_ID\"   # see issue #152\n",
    "os.environ[\"CUDA_VISIBLE_DEVICES\"]=\"7\"\n",
    "\n",
    "import argparse\n",
    "import torch\n",
    "import torch.nn as nn\n",
    "from torch.utils.data import DataLoader\n",
    "import pyvista as pv\n",
    "import numpy as np\n",
    "import torch.optim as optim\n",
    "\n",
    "import _init_path\n",
    "from torch.autograd import Variable\n",
    "from cls.data import ModelNet40, ScanObjectNN\n",
    "from util import cal_loss\n",
    "\n",
    "from cls.model_mixup import PointNet, DGCNN, Pointnet2_MSG\n",
    "\n",
    "\n",
    "parser = argparse.ArgumentParser(description='Point Cloud Recognition')\n",
    "parser.add_argument('--model', type=str, default='dgcnn', metavar='N',\n",
    "                    choices=['pointnet', 'dgcnn', 'pointnet2_MSG'],\n",
    "                    help='Model to use, [pointnet, dgcnn]')\n",
    "parser.add_argument('--data', type=str, default='MN40', metavar='N',\n",
    "                    choices=['MN40', 'SONN_EASY', 'SONN_HARD'])\n",
    "parser.add_argument('--batch_size', type=int, default=16, metavar='batch_size',\n",
    "                    help='Size of batch)')\n",
    "parser.add_argument('--test_batch_size', type=int, default=128, metavar='batch_size',\n",
    "                    help='Size of batch)')\n",
    "parser.add_argument('--epochs', type=int, default=250, metavar='N',\n",
    "                    help='number of episode to train ')\n",
    "parser.add_argument('--optim', type=str, default=\"sgd\",\n",
    "                    choices=['sgd', 'adam'],\n",
    "                    help='Optimizer, [sgd, adam]')\n",
    "parser.add_argument('--lr', type=float, default=0.001, metavar='LR',\n",
    "                    help='learning rate (default: 0.001, 0.1 if using sgd)')\n",
    "parser.add_argument('--momentum', type=float, default=0.9, metavar='M',\n",
    "                    help='SGD momentum (default: 0.9)')\n",
    "parser.add_argument('--scheduler', type=str, default='cos', metavar='N',\n",
    "                    choices=['cos', 'step'],\n",
    "                    help='Scheduler to use, [cos, step]')\n",
    "parser.add_argument('--no_cuda', type=bool, default=False,\n",
    "                    help='enables CUDA training')\n",
    "parser.add_argument('--seed', type=int, default=1, metavar='S',\n",
    "                    help='random seed (default: 1)')\n",
    "parser.add_argument('--eval', type=bool,  default=False,\n",
    "                    help='evaluate the model')\n",
    "parser.add_argument('--num_points', type=int, default=1024,\n",
    "                    help='num of points to use')\n",
    "parser.add_argument('--dropout', type=float, default=0.5,\n",
    "                    help='initial dropout rate')\n",
    "parser.add_argument('--emb_dims', type=int, default=1024, metavar='N',\n",
    "                    help='Dimension of embeddings')\n",
    "parser.add_argument('--k', type=int, default=20, metavar='N',\n",
    "                    help='Num of nearest neighbors to use')\n",
    "parser.add_argument('--model_path', type=str, default='', metavar='N',\n",
    "                    help='Pretrained model path')\n",
    "\n",
    "parser.add_argument('--aug', type=str, default='default', metavar='N',\n",
    "                    choices=['default', 'MN40'])\n",
    "parser.add_argument(\"--kermix\", type=bool, default= False)    \n",
    "parser.add_argument(\"--manimix\", type=bool, default=False) \n",
    "parser.add_argument('--sigma', type=float, default=0.3) \n",
    "parser.add_argument('--beta', type=float, default=5.)  \n",
    "parser.add_argument('--no_saliency', action='store_true')\n",
    "parser.add_argument('--smoothing_k', type=int, default=20) \n",
    "parser.add_argument('--temperature', type=float, default=2)\n",
    "parser.add_argument('--temperature2', type=float, default=1)  \n",
    "parser.add_argument('--sample_ver', type=int, default=3) \n",
    "args = parser.parse_args([])\n",
    "\n",
    "\n",
    "num_class = 15\n",
    "\n",
    "loader = DataLoader(ScanObjectNN(partition='test', num_points=args.num_points, aug=args.aug, ver=\"easy\"), num_workers=4,\n",
    "                                batch_size=args.test_batch_size, shuffle=True, drop_last=False)\n",
    "\n",
    "device = torch.device(\"cuda\")\n",
    "\n",
    "model = DGCNN(args, num_class).to(device)\n",
    "# model = PointNet(args, num_class).to(device)\n",
    "model =  nn.DataParallel(model)\n",
    "model.load_state_dict(torch.load(\"outputs/SONN_EASY_base/models/model.t7\"))\n",
    "model = model.module\n",
    "model.eval()\n",
    "\n",
    "\n",
    "model_our = DGCNN(args, num_class).to(device)\n",
    "# model = PointNet(args, num_class).to(device)\n",
    "model_our =  nn.DataParallel(model_our)\n",
    "model_our.load_state_dict(torch.load(\"outputs/sample_ver3_dgcnn_SONN_EASY_0.1_beta0.4/models/model.t7\"))\n",
    "model_our = model_our.module\n",
    "model_our.eval()\n",
    "\n",
    "model_mix = DGCNN(args, num_class).to(device)\n",
    "# model = PointNet(args, num_class).to(device)\n",
    "model_mix =  nn.DataParallel(model_mix)\n",
    "model_mix.load_state_dict(torch.load(\"outputs/basemixup_dgcnn_SONNEASY/models/model.t7\"))\n",
    "model_mix = model_mix.module\n",
    "model_mix.eval()\n",
    "\n",
    "\n",
    "pass\n",
    "    "
   ]
  },
  {
   "cell_type": "code",
   "execution_count": 2,
   "id": "13723239-6e2e-4c30-b52a-ce2ff8d336bc",
   "metadata": {},
   "outputs": [
    {
     "data": {
      "text/plain": [
       "<All keys matched successfully>"
      ]
     },
     "execution_count": 2,
     "metadata": {},
     "output_type": "execute_result"
    }
   ],
   "source": [
    "from cls.model import DGCNN\n",
    "model_RS = DGCNN(args, num_class).to(device)\n",
    "# model = PointNet(args, num_class).to(device)\n",
    "model_RS =  nn.DataParallel(model_RS)\n",
    "model_RS = model_RS.module\n",
    "model_RS.eval()\n",
    "\n",
    "model_RS.load_state_dict(torch.load(\"../../RSMix/dgcnn_rsmix/checkpoints/baseRSmix_rotjit_dgcnn_SONN_EASY/models/model.t7\"))"
   ]
  },
  {
   "cell_type": "code",
   "execution_count": 25,
   "id": "4818d15c-9a1a-4f1d-be41-06429449cb11",
   "metadata": {},
   "outputs": [
    {
     "name": "stderr",
     "output_type": "stream",
     "text": [
      "/tmp/ipykernel_36804/2308846766.py:27: UserWarning: __floordiv__ is deprecated, and its behavior will change in a future version of pytorch. It currently rounds toward 0 (like the 'trunc' function NOT 'floor'). This results in incorrect rounding for negative values. To keep the current behavior, use torch.div(a, b, rounding_mode='trunc'), or for actual floor division, use torch.div(a, b, rounding_mode='floor').\n",
      "  bin_index = int(((conf * 100) // (100/num_bins)).cpu())\n"
     ]
    },
    {
     "name": "stdout",
     "output_type": "stream",
     "text": [
      "tensor(0.0856) tensor(0.)\n"
     ]
    }
   ],
   "source": [
    "num_bins = 10\n",
    "counts = [0 for _ in range(num_bins+1)]\n",
    "acc_counts = [0 for _ in range(num_bins+1)]\n",
    "conf_counts = [0 for _ in range(num_bins+1)]\n",
    "n = float(len(loader.dataset))*10\n",
    "\n",
    "for i in range(10):\n",
    "    # num_bins = 50\n",
    "    # counts = [0 for _ in range(num_bins+1)]\n",
    "    # acc_counts = [0 for _ in range(num_bins+1)]\n",
    "    # conf_counts = [0 for _ in range(num_bins+1)]\n",
    "    # n = float(len(loader.dataset))\n",
    "    \n",
    "    for data, label in loader:\n",
    "        data, label = data.to(device), label.to(device).squeeze()\n",
    "        batch_size = data.size()[0]\n",
    "\n",
    "\n",
    "        with torch.no_grad():\n",
    "            logits, _ = model(data.permute(0,2,1), mixup=False)\n",
    "            # logits, _ = model_mix(data.permute(0,2,1))\n",
    "            # logits, _ = model_our(data.permute(0,2,1), mixup=False)\n",
    "            # logits= model_RS(data.permute(0,2,1))\n",
    "            probabilities = torch.nn.functional.softmax(logits, dim=1)\n",
    "            confs, preds = probabilities.max(1)\n",
    "            for (conf, pred, target) in zip(confs, preds, label):\n",
    "                bin_index = int(((conf * 100) // (100/num_bins)).cpu())\n",
    "                try:\n",
    "                    if pred == target:\n",
    "                        acc_counts[bin_index] += 1.0\n",
    "                    conf_counts[bin_index] += conf.cpu()\n",
    "                    counts[bin_index] += 1.0\n",
    "                except:\n",
    "                    print(bin_index, conf)\n",
    "                    raise AssertionError('Bin index out of range!')\n",
    "\n",
    "avg_acc = [0 if count == 0 else acc_count / count for acc_count, count in zip(acc_counts, counts)]\n",
    "avg_conf = [0 if count == 0 else conf_count / count for conf_count, count in zip(conf_counts, counts)]\n",
    "ECE, OE = 0, 0\n",
    "for i in range(num_bins):\n",
    "    ECE += (counts[i] / n) * abs(avg_acc[i] - avg_conf[i])\n",
    "    OE += (counts[i] / n) * (avg_conf[i] * (max(avg_conf[i] - avg_acc[i], 0)))\n",
    "\n",
    "print(ECE, OE)"
   ]
  },
  {
   "cell_type": "code",
   "execution_count": 7,
   "id": "21d89006-82f8-46a2-ba1c-2282f9b394ba",
   "metadata": {},
   "outputs": [],
   "source": [
    "a_origin = 1.2692409252350696\n",
    "a_our = 1.148782700938109\n",
    "a_rs = 1.17494332656671\n",
    "a_mix = 0.9265067956843933"
   ]
  },
  {
   "cell_type": "code",
   "execution_count": 50,
   "id": "b6291cf9-0ca9-44ba-8a73-b131e1cf4298",
   "metadata": {},
   "outputs": [
    {
     "data": {
      "text/plain": [
       "[Text(0.5, 0, 'avg_conf'), Text(0, 0.5, 'avg_acc')]"
      ]
     },
     "execution_count": 50,
     "metadata": {},
     "output_type": "execute_result"
    },
    {
     "data": {
      "image/png": "[encoded data removed]",
      "text/plain": [
       "<Figure size 432x432 with 1 Axes>"
      ]
     },
     "metadata": {
      "needs_background": "light"
     },
     "output_type": "display_data"
    }
   ],
   "source": [
    "import matplotlib.pyplot as plt\n",
    "import seaborn as sns\n",
    "import matplotlib.lines as mlines\n",
    "\n",
    "plt.rc('font', size=4)        # 기본 폰트 크기\n",
    "plt.rc('axes', labelsize=20)   # x,y축 label 폰트 크기\n",
    "plt.rc('xtick', labelsize=20)  # x축 눈금 폰트 크기 \n",
    "plt.rc('ytick', labelsize=20)  # y축 눈금 폰트 크기\n",
    "fig, ax = plt.subplots(figsize=(6,6))\n",
    "ax.set_xlim((0, 1))\n",
    "ax.set_ylim((0, 1))\n",
    "keep = np.array(counts)>0\n",
    "x, y =np.array(avg_conf)[keep], np.array(avg_acc)[keep]\n",
    "a = (y/x).mean()\n",
    "line = mlines.Line2D([0, 1], [0, 1], color='red', linewidth=5)\n",
    "# line2 = mlines.Line2D([0, 1], [0, a], color='blue', linewidth=5, alpha =0.5)\n",
    "\n",
    "sns.scatterplot(x, y, ax=ax, size=x, sizes=(250, 250), alpha=0.8, marker = \"s\")\n",
    "ax.plot(x,y, linewidth= 3)\n",
    "\n",
    "\n",
    "\n",
    "# transform = ax.transAxes\n",
    "# line.set_transform(transform)\n",
    "ax.get_legend().remove()\n",
    "ax.add_line(line)\n",
    "# ax.add_line(line2)\n",
    "ax.set(xlabel=\"Confidence\", ylabel=\"Accuracy\")"
   ]
  },
  {
   "cell_type": "code",
   "execution_count": 123,
   "id": "9cd81ec3-c413-4ec8-9a84-439242e57a92",
   "metadata": {},
   "outputs": [
    {
     "data": {
      "text/plain": [
       "[Text(0.5, 0, 'avg_conf'), Text(0, 0.5, 'avg_acc')]"
      ]
     },
     "execution_count": 123,
     "metadata": {},
     "output_type": "execute_result"
    },
    {
     "data": {
      "image/png": "[encoded data removed]",
      "text/plain": [
       "<Figure size 432x432 with 1 Axes>"
      ]
     },
     "metadata": {
      "needs_background": "light"
     },
     "output_type": "display_data"
    }
   ],
   "source": [
    "import matplotlib.pyplot as plt\n",
    "import seaborn as sns\n",
    "import matplotlib.lines as mlines\n",
    "\n",
    "fig, ax = plt.subplots(figsize=(6,6))\n",
    "ax.set_xlim((0, 1))\n",
    "ax.set_ylim((0, 1))\n",
    "\n",
    "x, y =np.array(avg_conf)[keep], np.array(avg_acc)[keep]\n",
    "a = (y/x).mean()\n",
    "line = mlines.Line2D([0, 1], [0, 1], color='red', linewidth=3)\n",
    "line2 = mlines.Line2D([0, 1], [0, a_origin], color='g', linewidth=3)\n",
    "line3 = mlines.Line2D([0, 1], [0, a_mix], color='blue', linewidth=3)\n",
    "line4 = mlines.Line2D([0, 1], [0, a_rs], color='c', linewidth=3)\n",
    "line5 = mlines.Line2D([0, 1], [0, a_our], color='y', linewidth=3)\n",
    "\n",
    "ax.add_line(line)\n",
    "ax.add_line(line2)\n",
    "ax.add_line(line3)\n",
    "ax.add_line(line4)\n",
    "ax.add_line(line5)\n",
    "ax.set(xlabel=\"avg_conf\", ylabel=\"avg_acc\")"
   ]
  },
  {
   "cell_type": "code",
   "execution_count": 110,
   "id": "6a16b01a-ff7b-4dee-a01f-fbcf6419ddd9",
   "metadata": {},
   "outputs": [
    {
     "data": {
      "text/plain": [
       "1.17494332656671"
      ]
     },
     "execution_count": 110,
     "metadata": {},
     "output_type": "execute_result"
    }
   ],
   "source": [
    "a"
   ]
  },
  {
   "cell_type": "code",
   "execution_count": 90,
   "id": "4b6ccade-1b94-4ad9-ba55-eaa0881a3343",
   "metadata": {},
   "outputs": [
    {
     "data": {
      "text/plain": [
       "0.9265067956843933"
      ]
     },
     "execution_count": 90,
     "metadata": {},
     "output_type": "execute_result"
    }
   ],
   "source": [
    "import matplotlib.pyplot as plt\n",
    "import seaborn as sns\n",
    "import matplotlib.lines as mlines\n",
    "\n",
    "fig, ax = plt.subplots(figsize=(6,6))\n",
    "ax.set_xlim((0, 1))\n",
    "ax.set_ylim((0, 1))\n",
    "\n",
    "x, y =np.array(avg_conf)[keep], np.array(avg_acc)[keep]\n",
    "a = (y/x).mean()\n",
    "line = mlines.Line2D([0, 1], [0, 1], color='red', linewidth=3)\n",
    "line2 = mlines.Line2D([0, 1], [0, a], color='blue', linewidth=3)\n",
    "keep = np.array(counts)>0\n",
    "sns.scatterplot(x, y, ax=ax, size=x, sizes=(50, 50), alpha=0.8, marker = \"s\")\n",
    "# transform = ax.transAxes\n",
    "# line.set_transform(transform)\n",
    "ax.get_legend().remove()\n",
    "ax.add_line(line)\n",
    "ax.add_line(line2)\n",
    "ax.set(xlabel=\"avg_conf\", ylabel=\"avg_acc\")"
   ]
  },
  {
   "cell_type": "code",
   "execution_count": null,
   "id": "e9c39040-abef-4d62-b9f8-0ad6d81ed3c0",
   "metadata": {},
   "outputs": [],
   "source": [
    "len(np.array(avg_conf)[keep]), len(np.array(avg_acc)[keep])"
   ]
  },
  {
   "cell_type": "code",
   "execution_count": null,
   "id": "eaec5216-dba0-4bd1-87ab-484a50898e83",
   "metadata": {},
   "outputs": [],
   "source": [
    "fig, ax = plt.subplots(figsize=(6,6))\n",
    "ax.set_xlim((0, 1))\n",
    "ax.set_ylim((0, 1))\n",
    "line = mlines.Line2D([0, 1], [0, 1], color='red', linewidth=3)\n",
    "plt.plot(avg_conf[4:-2], avg_acc[4:-2], color=\"b\", marker=\"s\")\n",
    "# transform = ax.transAxes\n",
    "# line.set_transform(transform)\n",
    "# ax.get_legend().remove()\n",
    "ax.add_line(line)\n",
    "ax.set(xlabel=\"avg_conf\", ylabel=\"avg_acc\")"
   ]
  },
  {
   "cell_type": "code",
   "execution_count": null,
   "id": "4684b397-ec26-4486-9d32-cc05392dfc4b",
   "metadata": {},
   "outputs": [],
   "source": [
    "avg_conf"
   ]
  }
 ],
 "metadata": {
  "kernelspec": {
   "display_name": "Python 3.9.7 ('NIPS': conda)",
   "language": "python",
   "name": "python3"
  },
  "language_info": {
   "codemirror_mode": {
    "name": "ipython",
    "version": 3
   },
   "file_extension": ".py",
   "mimetype": "text/x-python",
   "name": "python",
   "nbconvert_exporter": "python",
   "pygments_lexer": "ipython3",
   "version": "3.9.7"
  },
  "vscode": {
   "interpreter": {
    "hash": "8b79af1f5217589386426ca5d6f242e3652bcf498d1cbd6e70155844305fa5df"
   }
  }
 },
 "nbformat": 4,
 "nbformat_minor": 5
}
