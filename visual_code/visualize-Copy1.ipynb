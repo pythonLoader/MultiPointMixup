{
 "cells": [
  {
   "cell_type": "code",
   "execution_count": 1,
   "id": "10fa1487",
   "metadata": {},
   "outputs": [],
   "source": [
    "import os\n",
    "os.environ[\"CUDA_DEVICE_ORDER\"]=\"PCI_BUS_ID\"   # see issue #152\n",
    "os.environ[\"CUDA_VISIBLE_DEVICES\"]=\"0\"\n",
    "\n",
    "import argparse\n",
    "import torch\n",
    "import torch.nn as nn\n",
    "from torch.utils.data import DataLoader\n",
    "import pyvista as pv\n",
    "import numpy as np\n",
    "import torch.optim as optim\n",
    "\n",
    "\n",
    "from torch.autograd import Variable\n",
    "from cls.data import ModelNet40\n",
    "from util import cal_loss\n",
    "import cls._init_path\n",
    "from cls.model_mixup import PointNet, DGCNN, Pointnet2_MSG\n",
    "\n",
    "\n",
    "parser = argparse.ArgumentParser(description='Point Cloud Recognition')\n",
    "parser.add_argument('--model', type=str, default='dgcnn', metavar='N',\n",
    "                    choices=['pointnet', 'dgcnn', 'pointnet2_MSG'],\n",
    "                    help='Model to use, [pointnet, dgcnn]')\n",
    "parser.add_argument('--data', type=str, default='MN40', metavar='N',\n",
    "                    choices=['MN40', 'SONN_EASY', 'SONN_HARD'])\n",
    "parser.add_argument('--batch_size', type=int, default=16, metavar='batch_size',\n",
    "                    help='Size of batch)')\n",
    "parser.add_argument('--test_batch_size', type=int, default=16, metavar='batch_size',\n",
    "                    help='Size of batch)')\n",
    "parser.add_argument('--epochs', type=int, default=250, metavar='N',\n",
    "                    help='number of episode to train ')\n",
    "parser.add_argument('--optim', type=str, default=\"sgd\",\n",
    "                    choices=['sgd', 'adam'],\n",
    "                    help='Optimizer, [sgd, adam]')\n",
    "parser.add_argument('--lr', type=float, default=0.001, metavar='LR',\n",
    "                    help='learning rate (default: 0.001, 0.1 if using sgd)')\n",
    "parser.add_argument('--momentum', type=float, default=0.9, metavar='M',\n",
    "                    help='SGD momentum (default: 0.9)')\n",
    "parser.add_argument('--scheduler', type=str, default='cos', metavar='N',\n",
    "                    choices=['cos', 'step'],\n",
    "                    help='Scheduler to use, [cos, step]')\n",
    "parser.add_argument('--no_cuda', type=bool, default=False,\n",
    "                    help='enables CUDA training')\n",
    "parser.add_argument('--seed', type=int, default=1, metavar='S',\n",
    "                    help='random seed (default: 1)')\n",
    "parser.add_argument('--eval', type=bool,  default=False,\n",
    "                    help='evaluate the model')\n",
    "parser.add_argument('--num_points', type=int, default=1024,\n",
    "                    help='num of points to use')\n",
    "parser.add_argument('--dropout', type=float, default=0.5,\n",
    "                    help='initial dropout rate')\n",
    "parser.add_argument('--emb_dims', type=int, default=1024, metavar='N',\n",
    "                    help='Dimension of embeddings')\n",
    "parser.add_argument('--k', type=int, default=20, metavar='N',\n",
    "                    help='Num of nearest neighbors to use')\n",
    "parser.add_argument('--model_path', type=str, default='', metavar='N',\n",
    "                    help='Pretrained model path')\n",
    "\n",
    "parser.add_argument('--aug', type=str, default='default', metavar='N',\n",
    "                    choices=['default', 'MN40'])\n",
    "parser.add_argument(\"--kermix\", type=bool, default= True)    \n",
    "parser.add_argument(\"--manimix\", type=bool, default=False) \n",
    "parser.add_argument('--sigma', type=float, default=0.3) \n",
    "parser.add_argument('--beta', type=float, default=5.)  \n",
    "parser.add_argument('--no_saliency', action='store_true')\n",
    "parser.add_argument('--smoothing_k', type=int, default=20) \n",
    "parser.add_argument('--temperature', type=float, default=2)\n",
    "parser.add_argument('--temperature2', type=float, default=1)  \n",
    "parser.add_argument('--sample_ver', type=int, default=3) \n",
    "args = parser.parse_args([])\n",
    "\n",
    "\n",
    "num_class = 40\n",
    "\n",
    "train_loader = DataLoader(ModelNet40(partition='test', num_points=args.num_points), num_workers=8,\n",
    "                                batch_size=args.batch_size, shuffle=True, drop_last=False)\n",
    "device = torch.device(\"cuda\")\n",
    "\n",
    "model = DGCNN(args, num_class).to(device)\n",
    "# model = PointNet(args, num_class).to(device)\n",
    "model =  nn.DataParallel(model)\n",
    "model.load_state_dict(torch.load(\"cls/outputs/base_dgcnn/models/model.t7\"))\n",
    "# model.load_state_dict(torch.load(\"cls/outputs/pointnet_base_MN40/models/model.t7\"))\n",
    "model = model.module\n",
    "model.train()\n",
    "\n",
    "\n",
    "opt = optim.SGD(model.parameters(), lr=args.lr, momentum=args.momentum, weight_decay=1e-4)\n",
    "\n",
    "criterion2 = cal_loss\n",
    "for data, label in train_loader:\n",
    "    data, label = data.to(device), label.to(device).squeeze()\n",
    "    batch_size = data.size()[0]\n",
    "\n",
    "    model.eval()\n",
    "    data_var = Variable(data.permute(0, 2, 1), requires_grad=True)\n",
    "    logits, _ = model(data_var, mixup=False)\n",
    "    loss = criterion2(logits, label, smoothing=False)\n",
    "    loss.backward()\n",
    "    opt.zero_grad()\n",
    "    model.train()\n",
    "    saliency = torch.sqrt(torch.mean(data_var.grad**2,1))\n",
    "\n",
    "#     logits, _, temp = model(data.permute(0,2,1), label, mixup=True, saliency=saliency, get_mix=True)\n",
    "    break\n",
    "   \n",
    "    "
   ]
  },
  {
   "cell_type": "code",
   "execution_count": 2,
   "id": "3a70e510",
   "metadata": {},
   "outputs": [],
   "source": [
    "from PointMixup.emd_ import emd_module\n",
    "\n",
    "def knn(x, k):\n",
    "    inner = -2*torch.matmul(x.transpose(2, 1), x)\n",
    "    xx = torch.sum(x**2, dim=1, keepdim=True)\n",
    "    pairwise_distance = -xx - inner - xx.transpose(2, 1)\n",
    " \n",
    "    idx = pairwise_distance.topk(k=k, dim=-1)[1]   # (batch_size, num_points, k)\n",
    "    return idx\n",
    "\n",
    "class namemix:\n",
    "    def __init__(self, args, num_class=40):\n",
    "        self.num_class = num_class\n",
    "        self.smoothing_k = args.smoothing_k\n",
    "        self.temperature = args.temperature\n",
    "        self.temperature2 = args.temperature2\n",
    "        self.sample_ver = args.sample_ver\n",
    "        \n",
    "        # if self.kermix:\n",
    "        self.EMD = emd_module.emdModule()\n",
    "        self.sigma = args.sigma\n",
    "        if args.beta != -1:\n",
    "            self.beta = torch.distributions.beta.Beta(torch.tensor([args.beta]), torch.tensor([args.beta]))\n",
    "        else:\n",
    "            self.beta = None\n",
    "    \n",
    "    def mixup(self, xyz, label, x=None, saliency=None):\n",
    "        \"\"\"\n",
    "        Args:\n",
    "            xyz (B,N,3): \n",
    "            label (B): \n",
    "            x (B,D,N): Defaults to None.\n",
    "            saliency (B,N): Defaults to None.\n",
    "        \"\"\"        \n",
    "        \n",
    "        B, N, _ = xyz.shape\n",
    "        idxs = torch.randperm(B)\n",
    "        perm = xyz[idxs]\n",
    "        \n",
    "        _, ass = self.EMD(xyz, perm, 0.005, 500) # mapping\n",
    "        ass = ass.long()\n",
    "        perm_new = torch.zeros_like(perm).cuda()\n",
    "        if saliency is not None:\n",
    "            saliency = self.saliency_smoothing(xyz, saliency)\n",
    "            saliency_perm = torch.zeros_like(saliency).cuda()\n",
    "        \n",
    "        for i in range(B):\n",
    "            perm_new[i] = perm[i][ass[i]]\n",
    "            if saliency is not None:\n",
    "                saliency_perm[i] = saliency[idxs][i][ass[i]]\n",
    "\n",
    "        #random_sampling\n",
    "        if saliency is None:\n",
    "            anc_idx = torch.randperm(self.args.num_points)[:2]\n",
    "            anchor_ori, anchor_perm = xyz[:,anc_idx[0],:], perm_new[:,anc_idx[1], :]\n",
    "        #weighted sampling\n",
    "        else:\n",
    "            #max_to_max\n",
    "            if self.sample_ver == 0:\n",
    "                saliency = saliency/saliency.sum(-1, keepdim=True)\n",
    "                saliency_perm = saliency_perm/saliency_perm.sum(-1, keepdim=True)\n",
    "                anc_idx = torch.multinomial(saliency, 1, replacement=True)\n",
    "                anc_idx2 = torch.multinomial(saliency_perm, 1, replacement=True)\n",
    "                anchor_ori = xyz[torch.arange(B),anc_idx[:,0]]\n",
    "                anchor_perm = perm_new[torch.arange(B),anc_idx2[:,0]]\n",
    "            \n",
    "            #max_to_min\n",
    "            elif self.sample_ver == 1:\n",
    "                saliency_perm =1/saliency_perm\n",
    "                \n",
    "                saliency = saliency/saliency.sum(-1, keepdim=True)\n",
    "                saliency_perm = saliency_perm/saliency_perm.sum(-1, keepdim=True)\n",
    "                \n",
    "                anc_idx = torch.multinomial(saliency, 1, replacement=True)\n",
    "                anc_idx2 = torch.multinomial(saliency_perm, 1, replacement=True)\n",
    "                anchor_ori = xyz[torch.arange(B),anc_idx[:,0]]\n",
    "                anchor_perm = perm_new[torch.arange(B),anc_idx2[:,0]]\n",
    "            \n",
    "            #min_to_min\n",
    "            elif self.sample_ver == 2:\n",
    "                saliency = 1/saliency\n",
    "                saliency_perm = 1/saliency_perm\n",
    "                \n",
    "                saliency = saliency/saliency.sum(-1, keepdim=True)\n",
    "                saliency_perm = saliency_perm/saliency_perm.sum(-1, keepdim=True)\n",
    "                \n",
    "                anc_idx = torch.multinomial(saliency, 1, replacement=True)\n",
    "                anc_idx2 = torch.multinomial(saliency_perm, 1, replacement=True)\n",
    "                anchor_ori = xyz[torch.arange(B),anc_idx[:,0]]\n",
    "                anchor_perm = perm_new[torch.arange(B),anc_idx2[:,0]]\n",
    "                \n",
    "            #max_to_max, distance based re-weighting\n",
    "            elif self.sample_ver == 3:\n",
    "                saliency = saliency/saliency.sum(-1, keepdim=True)\n",
    "                \n",
    "                \n",
    "                anc_idx = torch.multinomial(saliency, 1, replacement=True)\n",
    "                anchor_ori = xyz[torch.arange(B),anc_idx[:,0]]\n",
    "                \n",
    "                sub = perm_new - anchor_ori[:,None,:]\n",
    "                dist = ((sub) ** 2).sum(2).sqrt()\n",
    "                \n",
    "                saliency_perm = saliency_perm * dist\n",
    "                saliency_perm = saliency_perm/saliency_perm.sum(-1, keepdim=True)\n",
    "                \n",
    "                anc_idx2 = torch.multinomial(saliency_perm, 1, replacement=True)\n",
    "                anchor_perm = perm_new[torch.arange(B),anc_idx2[:,0]]\n",
    "            \n",
    "           \n",
    "\n",
    "        if self.beta is not None:\n",
    "            alpha = self.beta.sample((B,)).cuda()\n",
    "        else:\n",
    "            alpha = 0.5\n",
    "        \n",
    "        sub_ori = xyz - anchor_ori[:,None,:]\n",
    "        sub_ori = ((sub_ori) ** 2).sum(2).sqrt()\n",
    "        ker_weight_ori = torch.exp(-0.5 * (sub_ori ** 2) / (self.sigma ** 2))  #(M,N)\n",
    "        \n",
    "        sub_perm = perm_new - anchor_perm[:,None,:]\n",
    "        sub_perm = ((sub_perm) ** 2).sum(2).sqrt()   \n",
    "        ker_weight_perm = torch.exp(-0.5 * (sub_perm ** 2) / (self.sigma ** 2))  #(M,N)\n",
    "        \n",
    "        weight_ori = ker_weight_ori * alpha \n",
    "        weight_perm = ker_weight_perm * (1-alpha)\n",
    "          \n",
    "        weight = (torch.cat([weight_ori[...,None],weight_perm[...,None]],-1)) + 1e-16\n",
    "        weight = weight/weight.sum(-1)[...,None]\n",
    "\n",
    "        x = weight[:,:,0:1] * xyz + weight[:,:,1:] * perm_new\n",
    "        x = x.permute(0,2,1)\n",
    "        \n",
    "\n",
    "        \n",
    "        #label generation\n",
    "        target = weight.sum(1)\n",
    "        target = target / target.sum(-1, keepdim=True)\n",
    "        label_onehot = torch.zeros(B, self.num_class).cuda().scatter(1, label.view(-1, 1), 1)\n",
    "        label_perm_onehot = label_onehot[idxs]\n",
    "        label = target[:, 0, None] * label_onehot + target[:, 1, None] * label_perm_onehot \n",
    "        \n",
    "        return x, label, {\"mix\" : x, \"perm_idxs\" : idxs,\n",
    "                  \"perm\" : perm_new, \"ker_weight_perm\" : ker_weight_perm, \"weight_perm\":weight_perm,\n",
    "                  \"ker_weight_ori\" : ker_weight_ori,\"weight_ori\":weight_ori,\\\n",
    "                  \"saliency\" : saliency, \"saliency_perm\" : saliency_perm, \"ratio\":weight}\n",
    "    \n",
    "    \n",
    "    def saliency_smoothing(self, xyz, saliency):\n",
    "        B, N, _ = xyz.shape\n",
    "        idx = knn(xyz.permute(0,2,1), self.smoothing_k)\n",
    "        idx_base = torch.arange(0, B, device=xyz.device).view(-1, 1, 1)*1024\n",
    "        idx = idx + idx_base\n",
    "        idx = idx.view(-1)\n",
    "        saliency = saliency.view(-1)[idx].reshape(B, N, self.smoothing_k) #(b, 1024, k)\n",
    "        saliency = saliency.mean(-1)**self.temperature #(b, 1024)\n",
    "        \n",
    "        return saliency\n",
    "        \n",
    "\n",
    "    \n",
    "idxs = torch.randperm(args.batch_size)\n",
    "num_class = 40\n",
    "mix = namemix(args, num_class)\n",
    "_, new_label, temp = mix.mixup(data, label, saliency =saliency)\n",
    "ker_weight_perm = temp[\"ker_weight_perm\"] /  temp[\"ker_weight_perm\"].max(-1, keepdim=True)[0]\n",
    "weight_perm = temp[\"weight_perm\"]/  temp[\"weight_perm\"].max(-1, keepdim=True)[0]\n",
    "saliency_perm = temp[\"saliency_perm\"]/  temp[\"saliency_perm\"].max(-1, keepdim=True)[0]\n",
    "\n",
    "ker_weight_ori = temp[\"ker_weight_ori\"]/  temp[\"ker_weight_ori\"].max(-1, keepdim=True)[0]\n",
    "weight_ori = temp[\"weight_ori\"]/  temp[\"weight_ori\"].max(-1, keepdim=True)[0]\n",
    "saliency_ori = temp[\"saliency\"]/  temp[\"saliency\"].max(-1, keepdim=True)[0]\n",
    "\n"
   ]
  },
  {
   "cell_type": "code",
   "execution_count": 3,
   "id": "724ba64f",
   "metadata": {
    "scrolled": false
   },
   "outputs": [
    {
     "data": {
      "application/vnd.jupyter.widget-view+json": {
       "model_id": "27a104969ca74bf0a164257cde54c7d1",
       "version_major": 2,
       "version_minor": 0
      },
      "text/plain": [
       "ViewInteractiveWidget(height=768, layout=Layout(height='auto', width='100%'), width=1024)"
      ]
     },
     "metadata": {},
     "output_type": "display_data"
    },
    {
     "data": {
      "application/vnd.jupyter.widget-view+json": {
       "model_id": "3f720635920a481499531f4740a374d1",
       "version_major": 2,
       "version_minor": 0
      },
      "text/plain": [
       "ViewInteractiveWidget(height=768, layout=Layout(height='auto', width='100%'), width=1024)"
      ]
     },
     "metadata": {},
     "output_type": "display_data"
    }
   ],
   "source": [
    "def get_shadow(plotter, pos, point_size, scale=3, origin=None, opacitiy=0.1, color= \"#dddddd\"):\n",
    "    #pos (n,3)\n",
    "    pos  =pos.repeat(scale, 0) \n",
    "    pos +=  np.random.rand(pos.shape[0],pos.shape[1])/20\n",
    "\n",
    "    point_cloud = pv.PolyData(pos)\n",
    "\n",
    "    if origin is None:\n",
    "        origin = [0,0,pos[:,2].min() - 0.05]\n",
    "    point_cloud = point_cloud.project_points_to_plane(origin=origin, normal=[0,0,-1])\n",
    "\n",
    "    plotter.add_points(point_cloud, point_size=point_size, render_points_as_spheres=True,\\\n",
    "                        opacity=opacitiy, color = color, lighting=False) \n",
    "\n",
    "import seaborn as sns\n",
    "# pv.start_xvfb()\n",
    "camera_pos = [1,-1,1]#,[0,0,1]]\n",
    "\n",
    "subplot_point_size = 10\n",
    "g_subplot_point_size= 15\n",
    "\n",
    "cmap = sns.color_palette(\"light:salmon\", 5).as_hex()\n",
    "scale = 1.1\n",
    "cmap = [\"#{:02x}{:02x}{:02x}\".format(min(255, int(int(x[1:3],16)*scale)),\n",
    "                                        min(255, int(int(x[3:5],16)*scale)),\n",
    "                                        min(255, int(int(x[5:],16)*scale))) for x in cmap.as_hex()]\n",
    "\n",
    "\n",
    "\n",
    "plotter = pv.Plotter(notebook=True,shape=(4,4), lighting=\"none\")\n",
    "\n",
    "for i in range(16):\n",
    "    plotter.subplot(i//4, i%4)\n",
    "    plotter.background_color = \"W\"\n",
    "    point_cloud = pv.PolyData(data[i][:,[0,2,1]].cpu().numpy())\n",
    "    point_cloud['y'] = temp[\"saliency\"][i].cpu().numpy()\n",
    "    plotter.add_points(point_cloud, point_size=subplot_point_size, render_points_as_spheres=True, cmap=cmap)\n",
    "    plotter.camera_position = camera_pos\n",
    "    \n",
    "    get_shadow(plotter, data[i].cpu().numpy()[:,[0,2,1]], subplot_point_size)\n",
    "    \n",
    "    if i<8:\n",
    "        light = pv.Light(intensity=0.12)\n",
    "        light.set_direction_angle(30,90)\n",
    "        plotter.add_light(light)\n",
    "        light = pv.Light(intensity=0.12)\n",
    "        light.set_direction_angle(30,-90)\n",
    "        plotter.add_light(light)\n",
    "\n",
    "#     plotter.enable_shadows()\n",
    "    plotter.remove_scalar_bar()\n",
    "    \n",
    "plotter.show()\n",
    "\n",
    "plotter = pv.Plotter(notebook=True,shape=(4,4), lighting=\"none\")\n",
    "\n",
    "for i in range(16):\n",
    "    plotter.subplot(i//4, i%4)\n",
    "    plotter.background_color = \"W\"\n",
    "    point_cloud = pv.PolyData(temp[\"perm\"][i][:,[0,2,1]].cpu().numpy())\n",
    "    point_cloud['y'] = temp[\"saliency_perm\"][i].cpu().numpy()\n",
    "    plotter.add_points(point_cloud, point_size=subplot_point_size, render_points_as_spheres=True, cmap=cmap)\n",
    "    plotter.camera_position = camera_pos\n",
    "    \n",
    "    get_shadow(plotter,temp[\"perm\"][i].cpu().numpy()[:,[0,2,1]], subplot_point_size)\n",
    "    \n",
    "    if i<8:\n",
    "        light = pv.Light(intensity=0.12)\n",
    "        light.set_direction_angle(30,90)\n",
    "        plotter.add_light(light)\n",
    "        light = pv.Light(intensity=0.12)\n",
    "        light.set_direction_angle(30,-90)\n",
    "        plotter.add_light(light)\n",
    "\n",
    "#     plotter.enable_shadows()\n",
    "    plotter.remove_scalar_bar()\n",
    "    \n",
    "plotter.show()\n",
    "\n",
    "\n",
    "# plotter = pv.Plotter(notebook=True, window_size=(900, 4800), shape=(16,3), lighting=\"none\")\n",
    "# for i in range(16):\n",
    "#     plotter.subplot(i, 0)\n",
    "#     plotter.background_color = \"W\"\n",
    "#     point_cloud = pv.PolyData(data[i][:,[0,2,1]].cpu().numpy())\n",
    "#     point_cloud['y'] = temp[\"ratio\"][i,:,0].cpu().numpy()\n",
    "#     plotter.add_points(point_cloud, point_size=subplot_point_size, render_points_as_spheres=True, cmap=cmap)\n",
    "#     plotter.camera_position = camera_pos\n",
    "    \n",
    "#     get_shadow(plotter, data[i].cpu().numpy()[:,[0,2,1]], subplot_point_size)\n",
    "    \n",
    "\n",
    "#     plotter.remove_scalar_bar()\n",
    "\n",
    "\n",
    "# perm = temp[\"perm\"]\n",
    "# for i in range(16):\n",
    "#     plotter.subplot(i, 1)\n",
    "#     plotter.background_color = \"W\"\n",
    "#     point_cloud = pv.PolyData(perm[i][:,[0,2,1]].cpu().numpy())\n",
    "#     point_cloud['y'] =temp[\"ratio\"][i,:,1].cpu().numpy()\n",
    "#     plotter.add_points(point_cloud, point_size=subplot_point_size, render_points_as_spheres=True, cmap=cmap)\n",
    "#     plotter.camera_position = camera_pos\n",
    "    \n",
    "#     get_shadow(plotter, perm[i].cpu().numpy()[:,[0,2,1]], subplot_point_size)\n",
    "    \n",
    "\n",
    "#     plotter.remove_scalar_bar()\n",
    "\n",
    "# ori = temp[\"mix\"].permute(0,2,1)\n",
    "# for i in range(16):\n",
    "#     plotter.subplot(i, 2)\n",
    "#     plotter.background_color = \"W\"\n",
    "#     point_cloud = pv.PolyData(ori[i][:,[0,2,1]].cpu().numpy())\n",
    "#     point_cloud['y'] = torch.zeros(args.num_points).numpy()\n",
    "#     plotter.add_points(point_cloud, point_size=subplot_point_size, render_points_as_spheres=True, cmap=cmap)\n",
    "#     plotter.camera_position = camera_pos\n",
    "    \n",
    "#     get_shadow(plotter, ori[i].cpu().numpy()[:,[0,2,1]], subplot_point_size)\n",
    "    \n",
    "#     if i<8:\n",
    "#         light = pv.Light(intensity=0.12)\n",
    "#         light.set_direction_angle(30,90)\n",
    "#         plotter.add_light(light)\n",
    "#         light = pv.Light(intensity=0.12)\n",
    "#         light.set_direction_angle(30,-90)\n",
    "#         plotter.add_light(light)\n",
    "\n",
    "#     plotter.remove_scalar_bar()\n",
    "\n",
    "# plotter.show()\n"
   ]
  },
  {
   "cell_type": "code",
   "execution_count": 4,
   "id": "e67d56a3",
   "metadata": {
    "scrolled": false
   },
   "outputs": [
    {
     "data": {
      "application/vnd.jupyter.widget-view+json": {
       "model_id": "58e4a7b8544e4b6cb178a7c363ea1a8e",
       "version_major": 2,
       "version_minor": 0
      },
      "text/plain": [
       "ViewInteractiveWidget(height=600, layout=Layout(height='auto', width='100%'), width=1500)"
      ]
     },
     "metadata": {},
     "output_type": "display_data"
    },
    {
     "data": {
      "application/vnd.jupyter.widget-view+json": {
       "model_id": "556a5905d073420b973e6159e43af1e6",
       "version_major": 2,
       "version_minor": 0
      },
      "text/plain": [
       "ViewInteractiveWidget(height=600, layout=Layout(height='auto', width='100%'), width=1200)"
      ]
     },
     "metadata": {},
     "output_type": "display_data"
    },
    {
     "data": {
      "application/vnd.jupyter.widget-view+json": {
       "model_id": "55f863dabc264ac390ce051e80820c73",
       "version_major": 2,
       "version_minor": 0
      },
      "text/plain": [
       "ViewInteractiveWidget(height=600, layout=Layout(height='auto', width='100%'), width=1500)"
      ]
     },
     "metadata": {},
     "output_type": "display_data"
    },
    {
     "data": {
      "application/vnd.jupyter.widget-view+json": {
       "model_id": "570749f8c02c4f29b94281ee834b5c4e",
       "version_major": 2,
       "version_minor": 0
      },
      "text/plain": [
       "ViewInteractiveWidget(height=600, layout=Layout(height='auto', width='100%'), width=1200)"
      ]
     },
     "metadata": {},
     "output_type": "display_data"
    },
    {
     "data": {
      "application/vnd.jupyter.widget-view+json": {
       "model_id": "0314ba2019834b64a25eb2e51300f452",
       "version_major": 2,
       "version_minor": 0
      },
      "text/plain": [
       "ViewInteractiveWidget(height=600, layout=Layout(height='auto', width='100%'), width=1500)"
      ]
     },
     "metadata": {},
     "output_type": "display_data"
    },
    {
     "data": {
      "application/vnd.jupyter.widget-view+json": {
       "model_id": "068ec4fc9ac9451883717beb49252b5d",
       "version_major": 2,
       "version_minor": 0
      },
      "text/plain": [
       "ViewInteractiveWidget(height=600, layout=Layout(height='auto', width='100%'), width=1200)"
      ]
     },
     "metadata": {},
     "output_type": "display_data"
    },
    {
     "data": {
      "application/vnd.jupyter.widget-view+json": {
       "model_id": "fc9faae87062406eb8505ada126ea191",
       "version_major": 2,
       "version_minor": 0
      },
      "text/plain": [
       "ViewInteractiveWidget(height=600, layout=Layout(height='auto', width='100%'), width=1500)"
      ]
     },
     "metadata": {},
     "output_type": "display_data"
    },
    {
     "data": {
      "application/vnd.jupyter.widget-view+json": {
       "model_id": "ebf9e8eba3714868937beed410548c39",
       "version_major": 2,
       "version_minor": 0
      },
      "text/plain": [
       "ViewInteractiveWidget(height=600, layout=Layout(height='auto', width='100%'), width=1200)"
      ]
     },
     "metadata": {},
     "output_type": "display_data"
    },
    {
     "data": {
      "application/vnd.jupyter.widget-view+json": {
       "model_id": "ef06adabb3c1400785e6ee80fbfa0923",
       "version_major": 2,
       "version_minor": 0
      },
      "text/plain": [
       "ViewInteractiveWidget(height=600, layout=Layout(height='auto', width='100%'), width=1500)"
      ]
     },
     "metadata": {},
     "output_type": "display_data"
    },
    {
     "data": {
      "application/vnd.jupyter.widget-view+json": {
       "model_id": "c4da8ba7b3364974a14abdae681a94b6",
       "version_major": 2,
       "version_minor": 0
      },
      "text/plain": [
       "ViewInteractiveWidget(height=600, layout=Layout(height='auto', width='100%'), width=1200)"
      ]
     },
     "metadata": {},
     "output_type": "display_data"
    },
    {
     "data": {
      "application/vnd.jupyter.widget-view+json": {
       "model_id": "48a2e6677ef040168f8ca772df49d971",
       "version_major": 2,
       "version_minor": 0
      },
      "text/plain": [
       "ViewInteractiveWidget(height=600, layout=Layout(height='auto', width='100%'), width=1500)"
      ]
     },
     "metadata": {},
     "output_type": "display_data"
    },
    {
     "data": {
      "application/vnd.jupyter.widget-view+json": {
       "model_id": "ac1169d666294b6189c8ce975e9dd6bf",
       "version_major": 2,
       "version_minor": 0
      },
      "text/plain": [
       "ViewInteractiveWidget(height=600, layout=Layout(height='auto', width='100%'), width=1200)"
      ]
     },
     "metadata": {},
     "output_type": "display_data"
    },
    {
     "data": {
      "application/vnd.jupyter.widget-view+json": {
       "model_id": "e45d7056d5494b9db2db036ea4345e96",
       "version_major": 2,
       "version_minor": 0
      },
      "text/plain": [
       "ViewInteractiveWidget(height=600, layout=Layout(height='auto', width='100%'), width=1500)"
      ]
     },
     "metadata": {},
     "output_type": "display_data"
    },
    {
     "data": {
      "application/vnd.jupyter.widget-view+json": {
       "model_id": "8d625ce868bf40159a59bdd4f6e70732",
       "version_major": 2,
       "version_minor": 0
      },
      "text/plain": [
       "ViewInteractiveWidget(height=600, layout=Layout(height='auto', width='100%'), width=1200)"
      ]
     },
     "metadata": {},
     "output_type": "display_data"
    },
    {
     "data": {
      "application/vnd.jupyter.widget-view+json": {
       "model_id": "39c02440938641918cef8b5ed2fc5c0a",
       "version_major": 2,
       "version_minor": 0
      },
      "text/plain": [
       "ViewInteractiveWidget(height=600, layout=Layout(height='auto', width='100%'), width=1500)"
      ]
     },
     "metadata": {},
     "output_type": "display_data"
    },
    {
     "data": {
      "application/vnd.jupyter.widget-view+json": {
       "model_id": "0ddba87f4e084496a6341a0dc49a0c11",
       "version_major": 2,
       "version_minor": 0
      },
      "text/plain": [
       "ViewInteractiveWidget(height=600, layout=Layout(height='auto', width='100%'), width=1200)"
      ]
     },
     "metadata": {},
     "output_type": "display_data"
    },
    {
     "data": {
      "application/vnd.jupyter.widget-view+json": {
       "model_id": "19ae1735864e4a3185b3a9553ff30daa",
       "version_major": 2,
       "version_minor": 0
      },
      "text/plain": [
       "ViewInteractiveWidget(height=600, layout=Layout(height='auto', width='100%'), width=1500)"
      ]
     },
     "metadata": {},
     "output_type": "display_data"
    },
    {
     "data": {
      "application/vnd.jupyter.widget-view+json": {
       "model_id": "b3f0ba44a43148a5b3b48d717ffd37b9",
       "version_major": 2,
       "version_minor": 0
      },
      "text/plain": [
       "ViewInteractiveWidget(height=600, layout=Layout(height='auto', width='100%'), width=1200)"
      ]
     },
     "metadata": {},
     "output_type": "display_data"
    },
    {
     "data": {
      "application/vnd.jupyter.widget-view+json": {
       "model_id": "9eb4d51a04884f4697d8eb0478b3b692",
       "version_major": 2,
       "version_minor": 0
      },
      "text/plain": [
       "ViewInteractiveWidget(height=600, layout=Layout(height='auto', width='100%'), width=1500)"
      ]
     },
     "metadata": {},
     "output_type": "display_data"
    },
    {
     "data": {
      "application/vnd.jupyter.widget-view+json": {
       "model_id": "5070e6027aa44d908c1b0129c054089f",
       "version_major": 2,
       "version_minor": 0
      },
      "text/plain": [
       "ViewInteractiveWidget(height=600, layout=Layout(height='auto', width='100%'), width=1200)"
      ]
     },
     "metadata": {},
     "output_type": "display_data"
    },
    {
     "data": {
      "application/vnd.jupyter.widget-view+json": {
       "model_id": "5074d996771a4af09a06d7c5be49fd69",
       "version_major": 2,
       "version_minor": 0
      },
      "text/plain": [
       "ViewInteractiveWidget(height=600, layout=Layout(height='auto', width='100%'), width=1500)"
      ]
     },
     "metadata": {},
     "output_type": "display_data"
    },
    {
     "data": {
      "application/vnd.jupyter.widget-view+json": {
       "model_id": "a24270bc950f429eba4e3217bd2a2c06",
       "version_major": 2,
       "version_minor": 0
      },
      "text/plain": [
       "ViewInteractiveWidget(height=600, layout=Layout(height='auto', width='100%'), width=1200)"
      ]
     },
     "metadata": {},
     "output_type": "display_data"
    },
    {
     "data": {
      "application/vnd.jupyter.widget-view+json": {
       "model_id": "dfc1d42568d54bc896be9ff86b46e0fd",
       "version_major": 2,
       "version_minor": 0
      },
      "text/plain": [
       "ViewInteractiveWidget(height=600, layout=Layout(height='auto', width='100%'), width=1500)"
      ]
     },
     "metadata": {},
     "output_type": "display_data"
    },
    {
     "data": {
      "application/vnd.jupyter.widget-view+json": {
       "model_id": "f4d59fbc049c4bc5bb467c542e2bf942",
       "version_major": 2,
       "version_minor": 0
      },
      "text/plain": [
       "ViewInteractiveWidget(height=600, layout=Layout(height='auto', width='100%'), width=1200)"
      ]
     },
     "metadata": {},
     "output_type": "display_data"
    },
    {
     "data": {
      "application/vnd.jupyter.widget-view+json": {
       "model_id": "ab2b83e4b8a14c8cadd7ef9f82f0b4ca",
       "version_major": 2,
       "version_minor": 0
      },
      "text/plain": [
       "ViewInteractiveWidget(height=600, layout=Layout(height='auto', width='100%'), width=1500)"
      ]
     },
     "metadata": {},
     "output_type": "display_data"
    },
    {
     "data": {
      "application/vnd.jupyter.widget-view+json": {
       "model_id": "cd76d2ae915546d193226c83ac0ffa5a",
       "version_major": 2,
       "version_minor": 0
      },
      "text/plain": [
       "ViewInteractiveWidget(height=600, layout=Layout(height='auto', width='100%'), width=1200)"
      ]
     },
     "metadata": {},
     "output_type": "display_data"
    },
    {
     "data": {
      "application/vnd.jupyter.widget-view+json": {
       "model_id": "0a733720f7de440d8ea125232fc667dc",
       "version_major": 2,
       "version_minor": 0
      },
      "text/plain": [
       "ViewInteractiveWidget(height=600, layout=Layout(height='auto', width='100%'), width=1500)"
      ]
     },
     "metadata": {},
     "output_type": "display_data"
    },
    {
     "data": {
      "application/vnd.jupyter.widget-view+json": {
       "model_id": "2324928852bb48439df527892c300204",
       "version_major": 2,
       "version_minor": 0
      },
      "text/plain": [
       "ViewInteractiveWidget(height=600, layout=Layout(height='auto', width='100%'), width=1200)"
      ]
     },
     "metadata": {},
     "output_type": "display_data"
    },
    {
     "data": {
      "application/vnd.jupyter.widget-view+json": {
       "model_id": "f8beffc73508469bab6df7fca9f072c4",
       "version_major": 2,
       "version_minor": 0
      },
      "text/plain": [
       "ViewInteractiveWidget(height=600, layout=Layout(height='auto', width='100%'), width=1500)"
      ]
     },
     "metadata": {},
     "output_type": "display_data"
    },
    {
     "data": {
      "application/vnd.jupyter.widget-view+json": {
       "model_id": "0ea3f7aa8dea46fb967907310e6ef441",
       "version_major": 2,
       "version_minor": 0
      },
      "text/plain": [
       "ViewInteractiveWidget(height=600, layout=Layout(height='auto', width='100%'), width=1200)"
      ]
     },
     "metadata": {},
     "output_type": "display_data"
    },
    {
     "data": {
      "application/vnd.jupyter.widget-view+json": {
       "model_id": "15a9c2565f314b91b9c6355a4db11fdf",
       "version_major": 2,
       "version_minor": 0
      },
      "text/plain": [
       "ViewInteractiveWidget(height=600, layout=Layout(height='auto', width='100%'), width=1500)"
      ]
     },
     "metadata": {},
     "output_type": "display_data"
    },
    {
     "data": {
      "application/vnd.jupyter.widget-view+json": {
       "model_id": "f8f2501828ab4826b339206c5d5d0323",
       "version_major": 2,
       "version_minor": 0
      },
      "text/plain": [
       "ViewInteractiveWidget(height=600, layout=Layout(height='auto', width='100%'), width=1200)"
      ]
     },
     "metadata": {},
     "output_type": "display_data"
    }
   ],
   "source": [
    "for idx in range(16):\n",
    "    point_size = 9\n",
    "    ori  = data[idx][:,[0,2,1]].cpu().numpy()\n",
    "    perm = temp[\"perm\"][idx][:,[0,2,1]].cpu().numpy()\n",
    "\n",
    "    plotter = pv.Plotter(notebook=True, window_size=(1500, 600), shape=(2,5))\n",
    "    plotter.background_color = \"W\"\n",
    "\n",
    "    plotter.subplot(0, 0)\n",
    "\n",
    "    pos = ori\n",
    "    point_cloud = pv.PolyData(pos)\n",
    "    point_cloud['y'] =  saliency_ori.cpu().numpy()[idx]#**(3/4)\n",
    "    plotter.add_points(point_cloud, point_size=point_size, render_points_as_spheres=True, cmap=cmap)\n",
    "    plotter.camera_position = camera_pos\n",
    "\n",
    "    get_shadow(plotter, pos, point_size,5)\n",
    "\n",
    "    plotter.subplot(1, 0)\n",
    "\n",
    "    pos = perm\n",
    "    point_cloud = pv.PolyData(pos)\n",
    "    point_cloud['y'] =  saliency_perm.cpu().numpy()[idx]#**(3/4)\n",
    "    plotter.add_points(point_cloud, point_size=point_size, render_points_as_spheres=True, cmap=cmap)\n",
    "    plotter.camera_position = camera_pos\n",
    "\n",
    "    get_shadow(plotter, pos, point_size,5)\n",
    "\n",
    "    plotter.subplot(0, 1)\n",
    "\n",
    "    pos = ori\n",
    "    point_cloud = pv.PolyData(pos)\n",
    "    point_cloud['y'] =  ker_weight_ori.cpu().numpy()[idx]**(1/4)\n",
    "    plotter.add_points(point_cloud, point_size=point_size, render_points_as_spheres=True, cmap=cmap)\n",
    "    plotter.camera_position = camera_pos\n",
    "\n",
    "    get_shadow(plotter, pos, point_size,5)\n",
    "\n",
    "    plotter.subplot(1, 1)\n",
    "\n",
    "    pos = perm\n",
    "    point_cloud = pv.PolyData(pos)\n",
    "    point_cloud['y'] =  ker_weight_perm.cpu().numpy()[idx]**(1/4) \n",
    "    plotter.add_points(point_cloud, point_size=point_size, render_points_as_spheres=True, cmap=cmap)\n",
    "    plotter.camera_position = camera_pos\n",
    "\n",
    "    get_shadow(plotter, pos, point_size,5)\n",
    "\n",
    "\n",
    "    plotter.subplot(0, 2)\n",
    "\n",
    "    pos = ori\n",
    "    point_cloud = pv.PolyData(pos)\n",
    "    \n",
    "    t =  ker_weight_ori.cpu().numpy()[idx]**(1/4) * saliency_ori.cpu().numpy()[idx]#**(3/4)\n",
    "    point_cloud['y'] = t/t.max()\n",
    "#     point_cloud['y'] =  weight_ori.cpu().numpy()[idx]**(1/4)\n",
    "    plotter.add_points(point_cloud, point_size=point_size, render_points_as_spheres=True, cmap=cmap)\n",
    "    plotter.camera_position = camera_pos\n",
    "\n",
    "    get_shadow(plotter, pos, point_size,5)\n",
    "\n",
    "    plotter.subplot(1, 2)\n",
    "\n",
    "    pos = perm\n",
    "    point_cloud = pv.PolyData(pos)\n",
    "    t=  ker_weight_perm.cpu().numpy()[idx]**(1/4) * saliency_perm.cpu().numpy()[idx]#**(3/4)\n",
    "    point_cloud['y'] = t/t.max()\n",
    "#     point_cloud['y'] =  weight_perm.cpu().numpy()[idx]**(1/4)\n",
    "    plotter.add_points(point_cloud, point_size=point_size, render_points_as_spheres=True, cmap=cmap)\n",
    "    plotter.camera_position = camera_pos\n",
    "\n",
    "    get_shadow(plotter, pos, point_size,5)\n",
    "\n",
    "\n",
    "    plotter.subplot(0, 3)\n",
    "\n",
    "    pos = ori\n",
    "    point_cloud = pv.PolyData(pos)\n",
    "    point_cloud['y'] =  temp[\"ratio\"][idx,:,0].cpu().numpy()#**(3/4)\n",
    "    plotter.add_points(point_cloud, point_size=point_size, render_points_as_spheres=True, cmap=cmap)\n",
    "    plotter.camera_position = camera_pos\n",
    "\n",
    "    get_shadow(plotter, pos, point_size,5)\n",
    "\n",
    "    plotter.subplot(1, 3)\n",
    "\n",
    "    pos = perm\n",
    "    point_cloud = pv.PolyData(pos)\n",
    "    point_cloud['y'] =  temp[\"ratio\"][idx,:,1].cpu().numpy()#**(3/4)\n",
    "    plotter.add_points(point_cloud, point_size=point_size, render_points_as_spheres=True, cmap=cmap)\n",
    "    plotter.camera_position = camera_pos\n",
    "\n",
    "    get_shadow(plotter, pos, point_size,5)\n",
    "    \n",
    "    plotter.subplot(0, 4)\n",
    "\n",
    "    pos = ori\n",
    "    point_cloud = pv.PolyData(pos)\n",
    "    point_cloud['y'] =  temp[\"ratio2\"][idx,:,0].cpu().numpy()#**(3/4)\n",
    "    plotter.add_points(point_cloud, point_size=point_size, render_points_as_spheres=True, cmap=cmap)\n",
    "    plotter.camera_position = camera_pos\n",
    "\n",
    "    get_shadow(plotter, pos, point_size,5)\n",
    "\n",
    "    plotter.subplot(1, 4)\n",
    "\n",
    "    pos = perm\n",
    "    point_cloud = pv.PolyData(pos)\n",
    "    point_cloud['y'] =  temp[\"ratio2\"][idx,:,1].cpu().numpy()#**(3/4)\n",
    "    plotter.add_points(point_cloud, point_size=point_size, render_points_as_spheres=True, cmap=cmap)\n",
    "    plotter.camera_position = camera_pos\n",
    "\n",
    "    get_shadow(plotter, pos, point_size,5)\n",
    "\n",
    "    light = pv.Light(intensity=0.15, shadow_attenuation = 0)\n",
    "    light.set_direction_angle(30,0)\n",
    "    plotter.add_light(light)\n",
    "    light = pv.Light(intensity=0.12, shadow_attenuation = 0)\n",
    "    light.set_direction_angle(30,180)\n",
    "    plotter.add_light(light)\n",
    "    plotter.remove_scalar_bar()\n",
    "    plotter.show()\n",
    "\n",
    "\n",
    "\n",
    "\n",
    "\n",
    "    # plotter = pv.Plotter(notebook=True,shape=(1,2))\n",
    "    # plotter.background_color = \"W\"\n",
    "\n",
    "    # pos = data[idx][:,[0,2,1]].cpu().numpy()\n",
    "    # point_cloud = pv.PolyData(pos)\n",
    "    # point_cloud['y'] =  temp[\"ratio\"][idx,:,0].cpu().numpy()\n",
    "    # plotter.add_points(point_cloud, point_size=point_size, render_points_as_spheres=True, cmap=cmap)\n",
    "    # plotter.camera_position = camera_pos\n",
    "\n",
    "    # get_shadow(plotter, pos, point_size,5)\n",
    "\n",
    "    # plotter.subplot(0, 1)\n",
    "\n",
    "    # pos = temp[\"perm\"][idx][:,[0,2,1]].cpu().numpy()\n",
    "    # point_cloud = pv.PolyData(pos)\n",
    "    # point_cloud['y'] =  temp[\"ratio\"][idx,:,1].cpu().numpy()\n",
    "    # plotter.add_points(point_cloud, point_size=point_size, render_points_as_spheres=True, cmap=cmap)\n",
    "\n",
    "    # get_shadow(plotter, pos, point_size,5)\n",
    "\n",
    "    # plotter.camera_position = camera_pos\n",
    "    # plotter.remove_scalar_bar()\n",
    "    # light = pv.Light(intensity=0.15, shadow_attenuation = 0)\n",
    "    # light.set_direction_angle(30,0)\n",
    "    # plotter.add_light(light)\n",
    "    # light = pv.Light(intensity=0.12, shadow_attenuation = 0)\n",
    "    # light.set_direction_angle(30,180)\n",
    "    # plotter.add_light(light)\n",
    "    # #         plotter.screenshot('figs/{}/{}_compare.png'.format(class_choices[label[idx]], cnt[label[idx]]))\n",
    "\n",
    "    # plotter.show()\n",
    "\n",
    "    # point_size = 25\n",
    "\n",
    "    plotter = pv.Plotter(notebook=True, window_size=(1200, 600), shape=(1,2))\n",
    "    plotter.background_color = \"W\"\n",
    "#     plotter.subplot(0,0)\n",
    "    \n",
    "    \n",
    "    pos = temp[\"mix\"].permute(0,2,1)[idx][:,[0,2,1]].cpu().numpy()\n",
    "    point_cloud = pv.PolyData(pos)\n",
    "    point_cloud['y'] =  temp[\"ratio\"][idx,:,0].cpu().numpy()#**(3/4)\n",
    "    plotter.add_points(point_cloud, point_size=18, render_points_as_spheres=True, cmap=\"bwr\")\n",
    "    plotter.camera_position = camera_pos\n",
    "\n",
    "    get_shadow(plotter, pos, 18,5)\n",
    "    \n",
    "    plotter.camera_position = camera_pos\n",
    "    plotter.remove_scalar_bar()\n",
    "    light = pv.Light(intensity=0.15, shadow_attenuation = 0)\n",
    "    light.set_direction_angle(30,0)\n",
    "    plotter.add_light(light)\n",
    "    light = pv.Light(intensity=0.12, shadow_attenuation = 0)\n",
    "    light.set_direction_angle(30,180)\n",
    "    plotter.add_light(light)\n",
    "    #         plotter.screenshot('figs/{}/{}_compare.png'.format(class_choices[label[idx]], cnt[label[idx]]))\n",
    "\n",
    "    plotter.show()"
   ]
  },
  {
   "cell_type": "code",
   "execution_count": 5,
   "id": "543aad5c",
   "metadata": {},
   "outputs": [
    {
     "data": {
      "text/plain": [
       "tensor([[0.5089, 0.5766, 0.5027,  ..., 0.5057, 0.5028, 0.5058],\n",
       "        [0.3202, 0.3202, 0.3202,  ..., 0.3202, 0.3202, 0.3202],\n",
       "        [0.7237, 0.9213, 0.7635,  ..., 0.6374, 0.6946, 0.6257],\n",
       "        ...,\n",
       "        [0.4139, 0.4055, 0.4045,  ..., 0.4040, 0.4974, 0.4039],\n",
       "        [0.6722, 0.6695, 0.7768,  ..., 0.6699, 0.6981, 0.6667],\n",
       "        [0.2767, 0.2736, 0.2790,  ..., 0.2741, 0.2948, 0.2736]],\n",
       "       device='cuda:0')"
      ]
     },
     "execution_count": 5,
     "metadata": {},
     "output_type": "execute_result"
    }
   ],
   "source": [
    "temp[\"weight_ori2\"]"
   ]
  },
  {
   "cell_type": "code",
   "execution_count": 6,
   "id": "9d6b53e2",
   "metadata": {},
   "outputs": [
    {
     "data": {
      "text/plain": [
       "tensor([[2],\n",
       "        [0]])"
      ]
     },
     "execution_count": 6,
     "metadata": {},
     "output_type": "execute_result"
    }
   ],
   "source": [
    "saliency = torch.tensor([[0.1,0.2,0.7], [10, 1, 1]])\n",
    "\n",
    "torch.multinomial(saliency, 1, replacement=True)"
   ]
  }
 ],
 "metadata": {
  "kernelspec": {
   "display_name": "Python 3 (ipykernel)",
   "language": "python",
   "name": "python3"
  },
  "language_info": {
   "codemirror_mode": {
    "name": "ipython",
    "version": 3
   },
   "file_extension": ".py",
   "mimetype": "text/x-python",
   "name": "python",
   "nbconvert_exporter": "python",
   "pygments_lexer": "ipython3",
   "version": "3.9.7"
  }
 },
 "nbformat": 4,
 "nbformat_minor": 5
}
