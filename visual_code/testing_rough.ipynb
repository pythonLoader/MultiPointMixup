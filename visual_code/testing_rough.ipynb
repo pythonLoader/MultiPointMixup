{
 "cells": [
  {
   "cell_type": "code",
   "execution_count": 1,
   "metadata": {},
   "outputs": [
    {
     "name": "stdout",
     "output_type": "stream",
     "text": [
      "pygame 2.4.0 (SDL 2.26.4, Python 3.8.16)\n",
      "Hello from the pygame community. https://www.pygame.org/contribute.html\n"
     ]
    }
   ],
   "source": [
    "import pygame\n",
    "from pygame.locals import *\n",
    "from OpenGL.GL import *\n",
    "from OpenGL.GLUT import *\n",
    "from OpenGL.GLU import *\n",
    "import numpy as np"
   ]
  },
  {
   "cell_type": "code",
   "execution_count": 2,
   "metadata": {},
   "outputs": [],
   "source": [
    "# Let's create some 3D points\n",
    "num_points = 1000\n",
    "point_cloud = np.random.rand(num_points, 3) * 2 - 1  # points between -1 and 1\n",
    "\n",
    "def PointCloud():\n",
    "    glBegin(GL_POINTS)\n",
    "    for point in point_cloud:\n",
    "        glVertex3fv(point)\n",
    "    glEnd()"
   ]
  },
  {
   "cell_type": "code",
   "execution_count": 3,
   "metadata": {},
   "outputs": [
    {
     "name": "stderr",
     "output_type": "stream",
     "text": [
      "ALSA lib confmisc.c:855:(parse_card) cannot find card '0'\n",
      "ALSA lib conf.c:5178:(_snd_config_evaluate) function snd_func_card_inum returned error: No such file or directory\n",
      "ALSA lib confmisc.c:422:(snd_func_concat) error evaluating strings\n",
      "ALSA lib conf.c:5178:(_snd_config_evaluate) function snd_func_concat returned error: No such file or directory\n",
      "ALSA lib confmisc.c:1334:(snd_func_refer) error evaluating name\n",
      "ALSA lib conf.c:5178:(_snd_config_evaluate) function snd_func_refer returned error: No such file or directory\n",
      "ALSA lib conf.c:5701:(snd_config_expand) Evaluate error: No such file or directory\n",
      "ALSA lib pcm.c:2664:(snd_pcm_open_noupdate) Unknown PCM default\n"
     ]
    },
    {
     "ename": "NullFunctionError",
     "evalue": "Attempt to call an undefined function gluPerspective, check for bool(gluPerspective) before calling",
     "output_type": "error",
     "traceback": [
      "\u001b[0;31m---------------------------------------------------------------------------\u001b[0m",
      "\u001b[0;31mNullFunctionError\u001b[0m                         Traceback (most recent call last)",
      "Cell \u001b[0;32mIn[3], line 4\u001b[0m\n\u001b[1;32m      2\u001b[0m display \u001b[39m=\u001b[39m (\u001b[39m800\u001b[39m, \u001b[39m600\u001b[39m)\n\u001b[1;32m      3\u001b[0m pygame\u001b[39m.\u001b[39mdisplay\u001b[39m.\u001b[39mset_mode(display, DOUBLEBUF \u001b[39m|\u001b[39m OPENGL)\n\u001b[0;32m----> 4\u001b[0m gluPerspective(\u001b[39m45\u001b[39;49m, (display[\u001b[39m0\u001b[39;49m] \u001b[39m/\u001b[39;49m display[\u001b[39m1\u001b[39;49m]), \u001b[39m0.1\u001b[39;49m, \u001b[39m50.0\u001b[39;49m)\n\u001b[1;32m      5\u001b[0m glTranslatef(\u001b[39m0.0\u001b[39m, \u001b[39m0.0\u001b[39m, \u001b[39m-\u001b[39m\u001b[39m5\u001b[39m)\n\u001b[1;32m      7\u001b[0m \u001b[39mwhile\u001b[39;00m \u001b[39mTrue\u001b[39;00m:\n",
      "File \u001b[0;32m~/.conda/envs/CoMix/lib/python3.8/site-packages/OpenGL/platform/baseplatform.py:423\u001b[0m, in \u001b[0;36m_NullFunctionPointer.__call__\u001b[0;34m(self, *args, **named)\u001b[0m\n\u001b[1;32m    421\u001b[0m     \u001b[39mpass\u001b[39;00m\n\u001b[1;32m    422\u001b[0m \u001b[39melse\u001b[39;00m:\n\u001b[0;32m--> 423\u001b[0m     \u001b[39mraise\u001b[39;00m error\u001b[39m.\u001b[39mNullFunctionError(\n\u001b[1;32m    424\u001b[0m         \u001b[39m\"\"\"Attempt to call an undefined function %s, check for bool(%s) before calling\"\"\"\u001b[39;00m\u001b[39m%\u001b[39m(\n\u001b[1;32m    425\u001b[0m             \u001b[39mself\u001b[39m\u001b[39m.\u001b[39m\u001b[39m__name__\u001b[39m, \u001b[39mself\u001b[39m\u001b[39m.\u001b[39m\u001b[39m__name__\u001b[39m,\n\u001b[1;32m    426\u001b[0m         )\n\u001b[1;32m    427\u001b[0m     )\n",
      "\u001b[0;31mNullFunctionError\u001b[0m: Attempt to call an undefined function gluPerspective, check for bool(gluPerspective) before calling"
     ]
    }
   ],
   "source": [
    "pygame.init()\n",
    "display = (800, 600)\n",
    "pygame.display.set_mode(display, DOUBLEBUF | OPENGL)\n",
    "gluPerspective(45, (display[0] / display[1]), 0.1, 50.0)\n",
    "glTranslatef(0.0, 0.0, -5)\n",
    "\n",
    "while True:\n",
    "    for event in pygame.event.get():\n",
    "        if event.type == pygame.QUIT:\n",
    "            pygame.quit()\n",
    "            quit()\n",
    "\n",
    "    glRotatef(1, 3, 1, 1)\n",
    "    glClear(GL_COLOR_BUFFER_BIT | GL_DEPTH_BUFFER_BIT)\n",
    "    PointCloud()\n",
    "    pygame.display.flip()\n",
    "    pygame.time.wait(10)\n"
   ]
  },
  {
   "cell_type": "code",
   "execution_count": null,
   "metadata": {},
   "outputs": [],
   "source": []
  }
 ],
 "metadata": {
  "kernelspec": {
   "display_name": "CoMix",
   "language": "python",
   "name": "python3"
  },
  "language_info": {
   "codemirror_mode": {
    "name": "ipython",
    "version": 3
   },
   "file_extension": ".py",
   "mimetype": "text/x-python",
   "name": "python",
   "nbconvert_exporter": "python",
   "pygments_lexer": "ipython3",
   "version": "3.8.16"
  },
  "orig_nbformat": 4,
  "vscode": {
   "interpreter": {
    "hash": "080485de9a2e086f8ca6da5b682f2eb816eff7402e18eebce20b845946ccc2a4"
   }
  }
 },
 "nbformat": 4,
 "nbformat_minor": 2
}
