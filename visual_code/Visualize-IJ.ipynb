{
 "cells": [
  {
   "cell_type": "code",
   "execution_count": 2,
   "id": "509d5316",
   "metadata": {},
   "outputs": [],
   "source": [
    "import sys\n",
    "sys.path.append(\"./cls\")\n",
    "\n",
    "import os\n",
    "os.environ[\"CUDA_DEVICE_ORDER\"]=\"PCI_BUS_ID\"   # see issue #152\n",
    "os.environ[\"CUDA_VISIBLE_DEVICES\"]=\"1\"\n",
    "\n",
    "import torch\n",
    "from torch.utils.data import DataLoader\n",
    "import pyvista as pv\n",
    "import numpy as np\n",
    "\n",
    "from cls.data_ij import ModelNet40\n",
    "from util import cal_loss\n",
    "# from PointMixup.emd_ import emd_module\n",
    "from injae.partseg.PointMixup.emd_ import emd_module\n",
    "EMD = emd_module.emdModule()\n",
    "\n",
    "modelnet_test = ModelNet40(partition='test', num_points=2048)\n",
    "\n",
    "device = torch.device(\"cuda\")\n",
    "\n",
    "def get_pc(class_num, dataset=modelnet_test, idx=None, num_points=1024):\n",
    "    if idx==None:\n",
    "        class_idx = np.where(dataset.label[:]==class_num)[0]\n",
    "        idx = np.random.choice(class_idx)\n",
    "    pc = dataset.data[idx]\n",
    "    return pc[:num_points], idx\n",
    "\n",
    "def get_pc_batch(class_1, class_2, batch_size=16, dataset=modelnet_test, idx_list=None, num_points=1024):\n",
    "    A = []\n",
    "    B = []\n",
    "    if idx_list is None:\n",
    "        A_idx_list = []\n",
    "        B_idx_list = []\n",
    "        for i in range(batch_size):\n",
    "            a, a_idx = get_pc(class_1, dataset=dataset, idx=None, num_points=num_points)\n",
    "            b, b_idx = get_pc(class_2, dataset=dataset, idx=None, num_points=num_points)\n",
    "            A.append(a)\n",
    "            B.append(b)\n",
    "            A_idx_list.append(a_idx)\n",
    "            B_idx_list.append(b_idx)\n",
    "        idx_list = (A_idx_list, B_idx_list)\n",
    "    else:\n",
    "        for i, j in zip(*idx_list):\n",
    "            a, _ = get_pc(class_1, dataset=dataset, idx=i, num_points=num_points)\n",
    "            b, _ = get_pc(class_2, dataset=dataset, idx=j, num_points=num_points)\n",
    "            A.append(a)\n",
    "            B.append(b)\n",
    "    A = np.stack(A)\n",
    "    B = np.stack(B)\n",
    "    return torch.from_numpy(A), torch.from_numpy(B), idx_list"
   ]
  },
  {
   "cell_type": "markdown",
   "id": "34337357",
   "metadata": {},
   "source": [
    "## Aug Codes"
   ]
  },
  {
   "cell_type": "markdown",
   "id": "d428f3c9",
   "metadata": {},
   "source": [
    "### PointMixup"
   ]
  },
  {
   "cell_type": "code",
   "execution_count": 3,
   "id": "15aca381",
   "metadata": {},
   "outputs": [],
   "source": [
    "def mixup(xyz1, xyz2, mixrate):\n",
    "    \"\"\"\n",
    "    Args:\n",
    "        xyz (B,N,3): \n",
    "        label (B): \n",
    "        x (B,D,N): Defaults to None.\n",
    "        saliency (B,N): Defaults to None.\n",
    "    \"\"\"        \n",
    "\n",
    "    _, ass = EMD(xyz1, xyz2, 0.005, 5000) # mapping\n",
    "    ass = ass.long()\n",
    "    xyz2_new = torch.zeros_like(xyz2).to(xyz1.device)\n",
    "\n",
    "    for i in range(batch_size):\n",
    "        xyz2_new[i] = xyz2[i][ass[i]]\n",
    "    \n",
    "    mix = xyz1*(1-mixrate) + xyz2_new*(mixrate)\n",
    "\n",
    "\n",
    "    return mix"
   ]
  },
  {
   "cell_type": "markdown",
   "id": "d3faa834",
   "metadata": {},
   "source": [
    "### RSMix"
   ]
  },
  {
   "cell_type": "code",
   "execution_count": 4,
   "id": "b6536410",
   "metadata": {},
   "outputs": [],
   "source": [
    "from injae.rsmix import rsmix"
   ]
  },
  {
   "cell_type": "markdown",
   "id": "5bfec899",
   "metadata": {},
   "source": [
    "### Ours"
   ]
  },
  {
   "cell_type": "code",
   "execution_count": 5,
   "id": "4acc66fb",
   "metadata": {},
   "outputs": [],
   "source": [
    "def ours(xyz, perm, alpha=None, anchor=None, x=None, saliency=None, num_points=1024, sigma=0.1, beta=None, saliency_ver=0):\n",
    "    \"\"\"\n",
    "    Args:\n",
    "        xyz (B,N,3): \n",
    "        label (B): \n",
    "        x (B,D,N): Defaults to None.\n",
    "        saliency (B,N): Defaults to None.\n",
    "    \"\"\"        \n",
    "\n",
    "\n",
    "    _, ass = EMD(xyz, perm, 0.005, 10000) # mapping\n",
    "    ass = ass.long()\n",
    "    perm_new = torch.zeros_like(perm).to(perm.device)\n",
    "\n",
    "    for i in range(batch_size):\n",
    "        perm_new[i] = perm[i][ass[i]]\n",
    "\n",
    "    if anchor is not None:\n",
    "        anchor_ori, anchor_perm = xyz[torch.arange(len(xyz)),anchor[0],:], perm[torch.arange(len(perm)),anchor[1], :]\n",
    "    #random_sampling\n",
    "    elif saliency is None:\n",
    "        anc_idx = torch.randperm(num_points)[:2]\n",
    "        anchor_ori, anchor_perm = xyz[:,anc_idx[0],:], perm_new[:,anc_idx[1], :]\n",
    "    #weighted sampling\n",
    "    elif saliency_ver == 1:\n",
    "        anc_idx = torch.multinomial(saliency, 2, replacement=True)\n",
    "        anchor_ori = xyz[torch.arange(batch_size),anc_idx[:,0]]\n",
    "        anchor_perm = xyz[torch.arange(batch_size),anc_idx[:,1]][idxs]\n",
    "    #max\n",
    "    elif saliency_ver == 2:\n",
    "        anc_idx = saliency.max(1)[1]\n",
    "        anchor_ori = xyz[torch.arange(batch_size),anc_idx]\n",
    "        anchor_perm = anchor_ori[idxs]\n",
    "\n",
    "    if beta is not None:\n",
    "        alpha = beta.sample((batch_size,)).to([perm.device])\n",
    "    elif alpha is not None:\n",
    "        alpha = alpha\n",
    "    else:\n",
    "        alpha = 0.5\n",
    "\n",
    "    sub_ori = xyz - anchor_ori[:,None,:]\n",
    "    sub_ori = ((sub_ori) ** 2).sum(2).sqrt()\n",
    "    weight_ori = torch.exp(-0.5 * (sub_ori ** 2) / (sigma ** 2))  #(M,N)\n",
    "    weight_ori = weight_ori * alpha\n",
    "\n",
    "    sub_perm = perm_new - anchor_perm[:,None,:]\n",
    "    sub_perm = ((sub_perm) ** 2).sum(2).sqrt()   \n",
    "    weight_perm = torch.exp(-0.5 * (sub_perm ** 2) / (sigma ** 2))  #(M,N)\n",
    "    weight_perm = weight_perm * (1-alpha)\n",
    "\n",
    "    weight = (torch.cat([weight_ori[...,None],weight_perm[...,None]],-1)) + 1e-16\n",
    "    weight = weight/weight.sum(-1)[...,None]\n",
    "\n",
    "    #mixup sampe\n",
    "    if x is None:\n",
    "        x = xyz\n",
    "        perm_x_new = perm_new\n",
    "    else:\n",
    "        x = x.permute(0,2,1)\n",
    "        perm_x = x[idxs]\n",
    "        perm_x_new = torch.zeros_like(perm_x).cuda()\n",
    "        for i in range(batch_size):\n",
    "            perm_x_new[i] = perm_x[i][ass[i]]\n",
    "\n",
    "    x = weight[:,:,0:1] * x + weight[:,:,1:] * perm_x_new\n",
    "#     x = x.permute(0,2,1)\n",
    "\n",
    "\n",
    "    return x, {\"mix\" : x, \"perm\" : perm_new, \"weight\":weight}"
   ]
  },
  {
   "cell_type": "markdown",
   "id": "a1c35bec",
   "metadata": {},
   "source": [
    "## Prepare viz"
   ]
  },
  {
   "cell_type": "code",
   "execution_count": 6,
   "id": "94701175",
   "metadata": {},
   "outputs": [
    {
     "data": {
      "image/png": "[encoded data removed]",
      "text/html": [
       "<div style=\"vertical-align: middle;\"><strong>from_list</strong> </div><div class=\"cmap\"><img alt=\"from_list colormap\" title=\"from_list\" style=\"border: 1px solid #555;\" src=\"data:image/png;base64,iVBORw0KGgoAAAANSUhEUgAAAgAAAABACAYAAABsv8+/AAAAGHRFWHRUaXRsZQBmcm9tX2xpc3QgY29sb3JtYXBDL89FAAAAHnRFWHREZXNjcmlwdGlvbgBmcm9tX2xpc3QgY29sb3JtYXABtCnOAAAAMHRFWHRBdXRob3IATWF0cGxvdGxpYiB2My41LjEsIGh0dHBzOi8vbWF0cGxvdGxpYi5vcmf3t87PAAAAMnRFWHRTb2Z0d2FyZQBNYXRwbG90bGliIHYzLjUuMSwgaHR0cHM6Ly9tYXRwbG90bGliLm9yZ9kRUegAAAFuSURBVHic7dZLDoJAFADB0fsfySt5BlxoXKDGH1G0qzbAhBdCyJDeTPvdNMYYYzoezmaX54X5+nRxss75+futdf7Gbaubf/T7LDb/4nPenf/4e658H9mHd+affM635/1vlp3/lX14sr2+DAD8MwEAAEECAACCBAAABAkAAAgSAAAQJAAAIEgAAECQAACAIAEAAEECAACCBAAABAkAAAgSAAAQJAAAIEgAAECQAACAIAEAAEECAACCBAAABAkAAAgSAAAQJAAAIEgAAECQAACAIAEAAEECAACCBAAABAkAAAgSAAAQJAAAIEgAAECQAACAIAEAAEECAACCBAAABAkAAAgSAAAQJAAAIEgAAECQAACAIAEAAEECAACCBAAABAkAAAgSAAAQJAAAIEgAAECQAACAIAEAAEECAACCBAAABAkAAAgSAAAQJAAAIEgAAECQAACAIAEAAEECAACCBAAABAkAAAgSAAAQJAAAIOgArHqjh0LWtEwAAAAASUVORK5CYII=\"></div><div style=\"vertical-align: middle; max-width: 514px; display: flex; justify-content: space-between;\"><div style=\"float: left;\"><div title=\"#ffedbcff\" style=\"display: inline-block; width: 1em; height: 1em; margin: 0; vertical-align: middle; border: 1px solid #555; background-color: #ffedbcff;\"></div> under</div><div style=\"margin: 0 auto; display: inline-block;\">bad <div title=\"#00000000\" style=\"display: inline-block; width: 1em; height: 1em; margin: 0; vertical-align: middle; border: 1px solid #555; background-color: #00000000;\"></div></div><div style=\"float: right;\">over <div title=\"#ff8c7dff\" style=\"display: inline-block; width: 1em; height: 1em; margin: 0; vertical-align: middle; border: 1px solid #555; background-color: #ff8c7dff;\"></div></div>"
      ],
      "text/plain": [
       "<matplotlib.colors.ListedColormap at 0x7fdf7c5cdb80>"
      ]
     },
     "execution_count": 6,
     "metadata": {},
     "output_type": "execute_result"
    }
   ],
   "source": [
    "import pyvista as pv\n",
    "import numpy as np\n",
    "\n",
    "def get_shadow(plotter, pos, point_size, scale=3, origin=None, opacitiy=0.1, color= \"#dddddd\"):\n",
    "    #pos (n,3)\n",
    "    pos  =pos.repeat(scale, 0) \n",
    "    pos +=  np.random.rand(pos.shape[0],pos.shape[1])/20\n",
    "\n",
    "    point_cloud = pv.PolyData(pos)\n",
    "\n",
    "    if origin is None:\n",
    "        origin = [0,0,pos[:,2].min() - 0.05]\n",
    "    point_cloud = point_cloud.project_points_to_plane(origin=origin, normal=[0,0,-1])\n",
    "\n",
    "    plotter.add_points(point_cloud, point_size=point_size, render_points_as_spheres=True,\\\n",
    "                        opacity=opacitiy, color = color, lighting=False) \n",
    "\n",
    "\n",
    "pv.start_xvfb()\n",
    "from matplotlib.colors import ListedColormap\n",
    "s_color = np.array([255, 237, 188, 255])/255\n",
    "e_color = np.array([255, 140, 125, 255])/255\n",
    "lin = np.linspace(0,1,256)\n",
    "np.expand_dims((e_color - s_color),1)*np.expand_dims(lin,0)\n",
    "\n",
    "color_map = np.expand_dims(s_color,1) + np.expand_dims((e_color - s_color),1)*np.expand_dims(lin,0)\n",
    "cmap = ListedColormap(color_map.transpose((1,0)))\n",
    "cmap"
   ]
  },
  {
   "cell_type": "code",
   "execution_count": 7,
   "id": "4f6c21ad",
   "metadata": {},
   "outputs": [],
   "source": [
    "def visualize_batch(A, B, aug, cmap, point_size, camera_position, A_weight, B_weight, aug_weight, index=None):\n",
    "    if isinstance(A, torch.Tensor):\n",
    "        A = A.cpu().numpy()\n",
    "        B = B.cpu().numpy()\n",
    "        aug = aug.cpu().numpy()\n",
    "    \n",
    "    if index==None:\n",
    "        index = range(len(aug))\n",
    "\n",
    "    for i in index:\n",
    "        plotter = pv.Plotter(notebook=True, shape=(1,3))\n",
    "            \n",
    "        plotter.subplot(0, 0)\n",
    "        plotter.background_color = \"W\"\n",
    "        point_cloud = pv.PolyData(A[i][:,[0,2,1]])\n",
    "        # point_cloud['y'] = np.zeros(len(A[i]))\n",
    "        point_cloud['y'] = A_weight[i]\n",
    "        plotter.add_points(point_cloud, point_size=point_size, render_points_as_spheres=True, cmap=cmap)\n",
    "        plotter.camera_position = camera_position\n",
    "        get_shadow(plotter, A[i][:,[0,2,1]], point_size)\n",
    "        \n",
    "        plotter.subplot(0, 1)\n",
    "        plotter.background_color = \"W\"\n",
    "        point_cloud = pv.PolyData(aug[i][:,[0,2,1]])\n",
    "        point_cloud['y'] = aug_weight[i]\n",
    "        plotter.add_points(point_cloud, point_size=point_size, render_points_as_spheres=True, cmap=cmap)\n",
    "        plotter.camera_position = camera_position\n",
    "        get_shadow(plotter, aug[i][:,[0,2,1]], point_size)\n",
    "        \n",
    "        plotter.subplot(0, 2)\n",
    "        plotter.background_color = \"W\"\n",
    "        point_cloud = pv.PolyData(B[i][:,[0,2,1]])\n",
    "        # point_cloud['y'] = np.ones(len(B[i]))\n",
    "        point_cloud['y'] = B_weight[i]\n",
    "        plotter.add_points(point_cloud, point_size=point_size, render_points_as_spheres=True, cmap=cmap)\n",
    "        plotter.camera_position = camera_position\n",
    "        get_shadow(plotter, B[i][:,[0,2,1]], point_size)\n",
    "\n",
    "#         light = pv.Light(intensity=0.15, shadow_attenuation = 0)\n",
    "        light = pv.Light(intensity=0.20, shadow_attenuation = 0)\n",
    "        light.set_direction_angle(30,0)\n",
    "        plotter.add_light(light)\n",
    "#         light = pv.Light(intensity=0.12, shadow_attenuation = 0)\n",
    "        light = pv.Light(intensity=0.16, shadow_attenuation = 0)\n",
    "        light.set_direction_angle(30,180)\n",
    "        plotter.add_light(light)\n",
    "\n",
    "        plotter.show()\n",
    "    return plotter\n",
    "    \n",
    "def save_pdf(A, B, aug, cmap, point_size, camera_position, A_weight, B_weight, aug_weight, filename):\n",
    "    if isinstance(A, torch.Tensor):\n",
    "        A = A.cpu().numpy()\n",
    "        B = B.cpu().numpy()\n",
    "        aug = aug.cpu().numpy()\n",
    "\n",
    "    plotter = pv.Plotter(notebook=True, shape=(1,3))\n",
    "\n",
    "    plotter.subplot(0, 0)\n",
    "    plotter.background_color = \"W\"\n",
    "    point_cloud = pv.PolyData(A[:,[0,2,1]])\n",
    "    # point_cloud['y'] = np.zeros(len(A[i]))\n",
    "    point_cloud['y'] = A_weight\n",
    "    plotter.add_points(point_cloud, point_size=point_size, render_points_as_spheres=True, cmap=cmap)\n",
    "    plotter.camera_position = camera_position\n",
    "    get_shadow(plotter, A[:,[0,2,1]], point_size)\n",
    "\n",
    "    plotter.subplot(0, 1)\n",
    "    plotter.background_color = \"W\"\n",
    "    point_cloud = pv.PolyData(aug[:,[0,2,1]])\n",
    "    point_cloud['y'] = aug_weight\n",
    "    plotter.add_points(point_cloud, point_size=point_size, render_points_as_spheres=True, cmap=cmap)\n",
    "    plotter.camera_position = camera_position\n",
    "    get_shadow(plotter, aug[:,[0,2,1]], point_size)\n",
    "\n",
    "    plotter.subplot(0, 2)\n",
    "    plotter.background_color = \"W\"\n",
    "    point_cloud = pv.PolyData(B[:,[0,2,1]])\n",
    "    # point_cloud['y'] = np.ones(len(B[i]))\n",
    "    point_cloud['y'] = B_weight\n",
    "    plotter.add_points(point_cloud, point_size=point_size, render_points_as_spheres=True, cmap=cmap)\n",
    "    plotter.camera_position = camera_position\n",
    "    get_shadow(plotter, B[:,[0,2,1]], point_size)\n",
    "\n",
    "    light = pv.Light(intensity=0.15, shadow_attenuation = 0)\n",
    "    light.set_direction_angle(30,0)\n",
    "    plotter.add_light(light)\n",
    "    light = pv.Light(intensity=0.12, shadow_attenuation = 0)\n",
    "    light.set_direction_angle(30,180)\n",
    "    plotter.add_light(light)\n",
    "\n",
    "    plotter.save_graphic(filename)\n"
   ]
  },
  {
   "cell_type": "code",
   "execution_count": 8,
   "id": "2ea35c16",
   "metadata": {},
   "outputs": [],
   "source": [
    "camera_pos = [1,-1,1]#,[0,0,1]]\n",
    "point_size = 7"
   ]
  },
  {
   "cell_type": "markdown",
   "id": "7e46b3d8",
   "metadata": {},
   "source": [
    "## VIZ"
   ]
  },
  {
   "cell_type": "code",
   "execution_count": 9,
   "id": "6792d9dd",
   "metadata": {},
   "outputs": [],
   "source": [
    "batch_size = 16\n",
    "num_points = 1024\n",
    "point_size = 9\n",
    "camera_pos = camera_pos\n",
    "class_1 = 17\n",
    "class_2 = 8\n",
    "\n",
    "# A, B, idx_list = get_pc_batch(class_1, class_2, batch_size, num_points=num_points)\n",
    "\n",
    "idx_list = [[282]*batch_size, [1807]*batch_size]\n",
    "A, B, idx_list = get_pc_batch(class_1, class_2, batch_size, idx_list=idx_list, num_points=num_points)"
   ]
  },
  {
   "cell_type": "markdown",
   "id": "b781e390",
   "metadata": {},
   "source": [
    "### mixup"
   ]
  },
  {
   "cell_type": "code",
   "execution_count": 10,
   "id": "0905acb0",
   "metadata": {
    "scrolled": true,
    "tags": []
   },
   "outputs": [
    {
     "data": {
      "application/vnd.jupyter.widget-view+json": {
       "model_id": "ea1eb38aa5124dc78810b81d655b6f75",
       "version_major": 2,
       "version_minor": 0
      },
      "text/plain": [
       "ViewInteractiveWidget(height=768, layout=Layout(height='auto', width='100%'), width=1024)"
      ]
     },
     "metadata": {},
     "output_type": "display_data"
    },
    {
     "data": {
      "text/plain": [
       "<pyvista.plotting.plotting.Plotter at 0x7fdf7c665f70>"
      ]
     },
     "execution_count": 10,
     "metadata": {},
     "output_type": "execute_result"
    }
   ],
   "source": [
    "mixrate = 0.55\n",
    "aug = mixup(A, B, mixrate)\n",
    "A_weight = np.zeros(A.shape[:2])\n",
    "B_weight = np.ones(B.shape[:2])\n",
    "aug_weight = np.zeros((len(aug),len(A[0])))+mixrate\n",
    "visualize_batch(A, B, aug, cmap, point_size=point_size, camera_position=camera_pos,\n",
    "                A_weight=A_weight, B_weight=B_weight, aug_weight=aug_weight, \n",
    "                index=[-1])"
   ]
  },
  {
   "cell_type": "code",
   "execution_count": 11,
   "id": "870e18c9",
   "metadata": {},
   "outputs": [],
   "source": [
    "filename = './injae/cutmix_0.55.pdf'\n",
    "idx = -1\n",
    "save_pdf(A[idx], B[idx], aug[idx], cmap, point_size=point_size, camera_position=camera_pos,\n",
    "                A_weight=A_weight[idx], B_weight=B_weight[idx], aug_weight=aug_weight[idx], \n",
    "                filename=filename)"
   ]
  },
  {
   "cell_type": "markdown",
   "id": "7fde3f1d",
   "metadata": {},
   "source": [
    "### RSMix"
   ]
  },
  {
   "cell_type": "code",
   "execution_count": 12,
   "id": "63a36abc",
   "metadata": {
    "scrolled": true,
    "tags": []
   },
   "outputs": [
    {
     "name": "stdout",
     "output_type": "stream",
     "text": [
      "0.451171875\n"
     ]
    },
    {
     "data": {
      "application/vnd.jupyter.widget-view+json": {
       "model_id": "d6e3497d17bd4d029abcc8cedfe773ba",
       "version_major": 2,
       "version_minor": 0
      },
      "text/plain": [
       "ViewInteractiveWidget(height=768, layout=Layout(height='auto', width='100%'), width=1024)"
      ]
     },
     "metadata": {},
     "output_type": "display_data"
    },
    {
     "data": {
      "application/vnd.jupyter.widget-view+json": {
       "model_id": "ee769985235644448e72e89d4a1bb3d1",
       "version_major": 2,
       "version_minor": 0
      },
      "text/plain": [
       "ViewInteractiveWidget(height=768, layout=Layout(height='auto', width='100%'), width=1024)"
      ]
     },
     "metadata": {},
     "output_type": "display_data"
    },
    {
     "data": {
      "application/vnd.jupyter.widget-view+json": {
       "model_id": "c754b20b5dcb4ec8a12ac133fc8c0322",
       "version_major": 2,
       "version_minor": 0
      },
      "text/plain": [
       "ViewInteractiveWidget(height=768, layout=Layout(height='auto', width='100%'), width=1024)"
      ]
     },
     "metadata": {},
     "output_type": "display_data"
    },
    {
     "data": {
      "application/vnd.jupyter.widget-view+json": {
       "model_id": "ec0cd8d139324861b7a481ecf9293a90",
       "version_major": 2,
       "version_minor": 0
      },
      "text/plain": [
       "ViewInteractiveWidget(height=768, layout=Layout(height='auto', width='100%'), width=1024)"
      ]
     },
     "metadata": {},
     "output_type": "display_data"
    },
    {
     "data": {
      "application/vnd.jupyter.widget-view+json": {
       "model_id": "361dfb4454804baca99cd5fb74a29c31",
       "version_major": 2,
       "version_minor": 0
      },
      "text/plain": [
       "ViewInteractiveWidget(height=768, layout=Layout(height='auto', width='100%'), width=1024)"
      ]
     },
     "metadata": {},
     "output_type": "display_data"
    },
    {
     "data": {
      "application/vnd.jupyter.widget-view+json": {
       "model_id": "e966eeb7aa304c8ebf73a9001c0fdbea",
       "version_major": 2,
       "version_minor": 0
      },
      "text/plain": [
       "ViewInteractiveWidget(height=768, layout=Layout(height='auto', width='100%'), width=1024)"
      ]
     },
     "metadata": {},
     "output_type": "display_data"
    },
    {
     "data": {
      "application/vnd.jupyter.widget-view+json": {
       "model_id": "f12768379790416391982e85f1f37d3e",
       "version_major": 2,
       "version_minor": 0
      },
      "text/plain": [
       "ViewInteractiveWidget(height=768, layout=Layout(height='auto', width='100%'), width=1024)"
      ]
     },
     "metadata": {},
     "output_type": "display_data"
    },
    {
     "data": {
      "application/vnd.jupyter.widget-view+json": {
       "model_id": "db2138f143b44796aace1377a34d6fc3",
       "version_major": 2,
       "version_minor": 0
      },
      "text/plain": [
       "ViewInteractiveWidget(height=768, layout=Layout(height='auto', width='100%'), width=1024)"
      ]
     },
     "metadata": {},
     "output_type": "display_data"
    },
    {
     "data": {
      "application/vnd.jupyter.widget-view+json": {
       "model_id": "e1cf341fbc794ee59902db0ac2dc3ae0",
       "version_major": 2,
       "version_minor": 0
      },
      "text/plain": [
       "ViewInteractiveWidget(height=768, layout=Layout(height='auto', width='100%'), width=1024)"
      ]
     },
     "metadata": {},
     "output_type": "display_data"
    },
    {
     "data": {
      "application/vnd.jupyter.widget-view+json": {
       "model_id": "7af85f716eab4f868ec04363c0fc3918",
       "version_major": 2,
       "version_minor": 0
      },
      "text/plain": [
       "ViewInteractiveWidget(height=768, layout=Layout(height='auto', width='100%'), width=1024)"
      ]
     },
     "metadata": {},
     "output_type": "display_data"
    },
    {
     "data": {
      "application/vnd.jupyter.widget-view+json": {
       "model_id": "ac3efceda68842548caaeac4d8f8e84c",
       "version_major": 2,
       "version_minor": 0
      },
      "text/plain": [
       "ViewInteractiveWidget(height=768, layout=Layout(height='auto', width='100%'), width=1024)"
      ]
     },
     "metadata": {},
     "output_type": "display_data"
    },
    {
     "data": {
      "application/vnd.jupyter.widget-view+json": {
       "model_id": "7de1273fbd764561bc6767e034887530",
       "version_major": 2,
       "version_minor": 0
      },
      "text/plain": [
       "ViewInteractiveWidget(height=768, layout=Layout(height='auto', width='100%'), width=1024)"
      ]
     },
     "metadata": {},
     "output_type": "display_data"
    },
    {
     "data": {
      "application/vnd.jupyter.widget-view+json": {
       "model_id": "0b4b1a440638449b847c14c77d49ba51",
       "version_major": 2,
       "version_minor": 0
      },
      "text/plain": [
       "ViewInteractiveWidget(height=768, layout=Layout(height='auto', width='100%'), width=1024)"
      ]
     },
     "metadata": {},
     "output_type": "display_data"
    },
    {
     "data": {
      "application/vnd.jupyter.widget-view+json": {
       "model_id": "d00bb258fe66454694d66be470c8970b",
       "version_major": 2,
       "version_minor": 0
      },
      "text/plain": [
       "ViewInteractiveWidget(height=768, layout=Layout(height='auto', width='100%'), width=1024)"
      ]
     },
     "metadata": {},
     "output_type": "display_data"
    },
    {
     "data": {
      "application/vnd.jupyter.widget-view+json": {
       "model_id": "199999ab49b945f9ab2263c07a2c3430",
       "version_major": 2,
       "version_minor": 0
      },
      "text/plain": [
       "ViewInteractiveWidget(height=768, layout=Layout(height='auto', width='100%'), width=1024)"
      ]
     },
     "metadata": {},
     "output_type": "display_data"
    },
    {
     "data": {
      "application/vnd.jupyter.widget-view+json": {
       "model_id": "269203cf27a546deb748155c99765b11",
       "version_major": 2,
       "version_minor": 0
      },
      "text/plain": [
       "ViewInteractiveWidget(height=768, layout=Layout(height='auto', width='100%'), width=1024)"
      ]
     },
     "metadata": {},
     "output_type": "display_data"
    },
    {
     "data": {
      "text/plain": [
       "<pyvista.plotting.plotting.Plotter at 0x7fde700ce190>"
      ]
     },
     "execution_count": 12,
     "metadata": {},
     "output_type": "execute_result"
    }
   ],
   "source": [
    "while True:\n",
    "    aug, _, erased_num, lam = rsmix(B, A, n_sample=len(A[0])//2, KNN=True)\n",
    "    # aug, _, erased_num, lam = rsmix(B, A, n_sample=len(A[0])//2, KNN=True)\n",
    "    if lam[0] < 0.455 and lam[0] > 0.445:\n",
    "        break\n",
    "print(lam[0])\n",
    "\n",
    "# A_weight = np.zeros(A.shape[:2])\n",
    "# B_weight = np.ones(B.shape[:2])\n",
    "# aug_weight = np.zeros((len(aug), len(A[0])))\n",
    "A_weight = np.ones(A.shape[:2])\n",
    "B_weight = np.zeros(B.shape[:2])\n",
    "aug_weight = np.ones((len(aug), len(A[0])))\n",
    "for i in range(len(aug)):\n",
    "    # aug_weight[i, erased_num[i]:] = 1\n",
    "    aug_weight[i, erased_num[i]:] = 0\n",
    "    \n",
    "visualize_batch(A, B, aug, cmap, point_size=point_size, camera_position=camera_pos,\n",
    "                A_weight=A_weight, B_weight=B_weight, aug_weight=aug_weight, \n",
    "               )\n",
    "#                 index=[11])"
   ]
  },
  {
   "cell_type": "code",
   "execution_count": 13,
   "id": "edaf5ff2",
   "metadata": {},
   "outputs": [],
   "source": [
    "filename = './injae/rsmix_0.55.pdf'\n",
    "idx = 5\n",
    "save_pdf(A[idx], B[idx], aug[idx], cmap, point_size=point_size, camera_position=camera_pos,\n",
    "                A_weight=A_weight[idx], B_weight=B_weight[idx], aug_weight=aug_weight[idx], \n",
    "                filename=filename)"
   ]
  },
  {
   "cell_type": "markdown",
   "id": "8b415c10",
   "metadata": {},
   "source": [
    "### Ours"
   ]
  },
  {
   "cell_type": "code",
   "execution_count": 14,
   "id": "57891474",
   "metadata": {},
   "outputs": [],
   "source": [
    "guitar_idx = 282\n",
    "chair_idx = 1807"
   ]
  },
  {
   "cell_type": "code",
   "execution_count": 15,
   "id": "c0208fec",
   "metadata": {},
   "outputs": [
    {
     "name": "stdout",
     "output_type": "stream",
     "text": [
      "tensor([0.4500, 0.4509, 0.4503, 0.4501, 0.4507, 0.4502, 0.4500, 0.4502, 0.4509,\n",
      "        0.4495, 0.4500, 0.4509, 0.4505, 0.4507, 0.4498, 0.4505])\n"
     ]
    },
    {
     "data": {
      "application/vnd.jupyter.widget-view+json": {
       "model_id": "dad8e81274634543b39a746408781c24",
       "version_major": 2,
       "version_minor": 0
      },
      "text/plain": [
       "ViewInteractiveWidget(height=768, layout=Layout(height='auto', width='100%'), width=1024)"
      ]
     },
     "metadata": {},
     "output_type": "display_data"
    },
    {
     "data": {
      "text/plain": [
       "<pyvista.plotting.plotting.Plotter at 0x7fdf7c5596d0>"
      ]
     },
     "execution_count": 15,
     "metadata": {},
     "output_type": "execute_result"
    }
   ],
   "source": [
    "anchor =[]\n",
    "anchor.append(torch.argmax(A[:,:,0], 1))\n",
    "anchor.append(torch.argmin(B[:,:,0], 1))\n",
    "output = ours(A, B, alpha=0.9834, anchor=anchor, sigma=0.3) # sigma=0.4)\n",
    "\n",
    "aug = output[0]\n",
    "# B = output[1]['perm']\n",
    "A_weight = np.zeros(A.shape[:2])\n",
    "A_weight[np.arange(len(A)), anchor[0]] = 1\n",
    "B_weight = np.ones(B.shape[:2])\n",
    "B_weight[np.arange(len(B)), anchor[1]] = 0\n",
    "aug_weight = output[1]['weight'][:,:,1]\n",
    "print(torch.mean(aug_weight, 1))\n",
    "labels = torch.mean((output[1]['weight'][:,:,1])/torch.sum(output[1]['weight'],2),1)\n",
    "visualize_batch(A, B, aug, cmap, point_size=point_size, camera_position=camera_pos, \n",
    "                A_weight=A_weight, B_weight=B_weight, aug_weight=aug_weight, \n",
    "#                )\n",
    "                index=[0])\n",
    "# visualize_batch(output[1]['perm'], B, aug, cmap, point_size=point_size, camera_position=camera_pos,\n",
    "#  A_weight=B_weight, B_weight=B_weight, aug_weight=aug_weight, labels=labels)\n",
    "\n"
   ]
  },
  {
   "cell_type": "code",
   "execution_count": null,
   "id": "d8e6f72c",
   "metadata": {},
   "outputs": [],
   "source": [
    "anchor =[]\n",
    "anchor.append(torch.argmax(A[:,:,0], 1))\n",
    "anchor.append(torch.argmin(B[:,:,0], 1))\n",
    "output = ours(A, B, alpha=0.8, anchor=anchor, sigma=0.4)\n",
    "\n",
    "aug = output[0]\n",
    "# B = output[1]['perm']\n",
    "A_weight = np.zeros(A.shape[:2])\n",
    "A_weight[np.arange(len(A)), anchor[0]] = 1\n",
    "B_weight = np.ones(B.shape[:2])\n",
    "B_weight[np.arange(len(B)), anchor[1]] = 0\n",
    "aug_weight = output[1]['weight'][:,:,1]\n",
    "\n",
    "labels = torch.mean((output[1]['weight'][:,:,1])/torch.sum(output[1]['weight'],2),1)\n",
    "visualize_batch(A, B, aug, cmap, point_size=point_size, camera_position=camera_pos, \n",
    "                A_weight=A_weight, B_weight=B_weight, aug_weight=aug_weight, \n",
    "#                )\n",
    "                index=[0])\n",
    "# visualize_batch(output[1]['perm'], B, aug, cmap, point_size=point_size, camera_position=camera_pos,\n",
    "#  A_weight=B_weight, B_weight=B_weight, aug_weight=aug_weight, labels=labels)\n"
   ]
  },
  {
   "cell_type": "code",
   "execution_count": 53,
   "id": "765b4580",
   "metadata": {},
   "outputs": [],
   "source": [
    "filename = './injae/ours_0.45.pdf'\n",
    "idx = -1\n",
    "save_pdf(A[idx], B[idx], aug[idx], cmap, point_size=point_size, camera_position=camera_pos,\n",
    "                A_weight=A_weight[idx], B_weight=B_weight[idx], aug_weight=aug_weight[idx], \n",
    "                filename=filename)"
   ]
  },
  {
   "cell_type": "code",
   "execution_count": null,
   "id": "7e5687a0",
   "metadata": {},
   "outputs": [],
   "source": []
  },
  {
   "cell_type": "code",
   "execution_count": null,
   "id": "42d4c5b2",
   "metadata": {},
   "outputs": [],
   "source": []
  },
  {
   "cell_type": "code",
   "execution_count": null,
   "id": "dc549df6",
   "metadata": {},
   "outputs": [],
   "source": []
  },
  {
   "cell_type": "code",
   "execution_count": null,
   "id": "ae8e80f3",
   "metadata": {},
   "outputs": [],
   "source": []
  },
  {
   "cell_type": "code",
   "execution_count": null,
   "id": "8bd15cdc",
   "metadata": {},
   "outputs": [],
   "source": []
  },
  {
   "cell_type": "code",
   "execution_count": null,
   "id": "5360c07b",
   "metadata": {},
   "outputs": [],
   "source": []
  },
  {
   "cell_type": "code",
   "execution_count": 10,
   "id": "5c155cda",
   "metadata": {},
   "outputs": [],
   "source": [
    "mixup_pick = aug[0]\n",
    "mixup_weight_pick = aug_weight[0]"
   ]
  },
  {
   "cell_type": "code",
   "execution_count": 11,
   "id": "6acdd99a",
   "metadata": {},
   "outputs": [],
   "source": [
    "rsmix_pick = torch.load(\"./injae/rsmix_guitar_chair_733.pt\")\n",
    "rsmix_weight_pick = np.zeros(A.shape[1])\n",
    "rsmix_weight_pick[733:] = 1"
   ]
  },
  {
   "cell_type": "code",
   "execution_count": 13,
   "id": "83188dae",
   "metadata": {},
   "outputs": [],
   "source": [
    "ours_pick = aug[3]\n",
    "ours_weight_pick = aug_weight[3]"
   ]
  },
  {
   "cell_type": "code",
   "execution_count": 15,
   "id": "ff09b78c",
   "metadata": {},
   "outputs": [],
   "source": [
    "new_aug = aug[:3]\n",
    "new_weight = aug_weight[:3]\n",
    "new_aug[0] = mixup_pick\n",
    "new_aug[1] = rsmix_pick\n",
    "new_aug[2] = ours_pick\n",
    "\n",
    "new_weight[0] = torch.from_numpy(mixup_weight_pick)\n",
    "new_weight[1] = torch.from_numpy(rsmix_weight_pick)\n",
    "new_weight[2] = ours_weight_pick"
   ]
  },
  {
   "cell_type": "code",
   "execution_count": 16,
   "id": "f85e41a2",
   "metadata": {},
   "outputs": [
    {
     "data": {
      "image/png": "[encoded data removed]",
      "text/html": [
       "<div style=\"vertical-align: middle;\"><strong>from_list</strong> </div><div class=\"cmap\"><img alt=\"from_list colormap\" title=\"from_list\" style=\"border: 1px solid #555;\" src=\"data:image/png;base64,iVBORw0KGgoAAAANSUhEUgAAAgAAAABACAYAAABsv8+/AAAAGHRFWHRUaXRsZQBmcm9tX2xpc3QgY29sb3JtYXBDL89FAAAAHnRFWHREZXNjcmlwdGlvbgBmcm9tX2xpc3QgY29sb3JtYXABtCnOAAAAMHRFWHRBdXRob3IATWF0cGxvdGxpYiB2My41LjEsIGh0dHBzOi8vbWF0cGxvdGxpYi5vcmf3t87PAAAAMnRFWHRTb2Z0d2FyZQBNYXRwbG90bGliIHYzLjUuMSwgaHR0cHM6Ly9tYXRwbG90bGliLm9yZ9kRUegAAAGsSURBVHic7dZBcoIwAEDR0Pufq7foWejC2oWKYkQ3/70NQyaGEMaZv3yvP+sYY4z1dBnjdF3+rufL//2D8eV8u7HO7vV3rje7r+n1D37P2X1djR99/s9+30+d/7Prf+r8D97Xu/9fy7iwXq4z7t+/PG/dOe+ofaw3x5ereUc99/bz3ne+D77fxvjV++/ex+T3m563cZ4vrr/9/m/6P2z+bu77zc47v/fXAAByBAAABAkAAAgSAAAQJAAAIEgAAECQAACAIAEAAEECAACCBAAABAkAAAgSAAAQJAAAIEgAAECQAACAIAEAAEECAACCBAAABAkAAAgSAAAQJAAAIEgAAECQAACAIAEAAEECAACCBAAABAkAAAgSAAAQJAAAIEgAAECQAACAIAEAAEECAACCBAAABAkAAAgSAAAQJAAAIEgAAECQAACAIAEAAEECAACCBAAABAkAAAgSAAAQJAAAIEgAAECQAACAIAEAAEECAACCBAAABAkAAAgSAAAQJAAAIEgAAECQAACAIAEAAEECAACCBAAABAkAAAgSAAAQJAAAIEgAAECQAACAoF/BttaH1on65QAAAABJRU5ErkJggg==\"></div><div style=\"vertical-align: middle; max-width: 514px; display: flex; justify-content: space-between;\"><div style=\"float: left;\"><div title=\"#c6ffddff\" style=\"display: inline-block; width: 1em; height: 1em; margin: 0; vertical-align: middle; border: 1px solid #555; background-color: #c6ffddff;\"></div> under</div><div style=\"margin: 0 auto; display: inline-block;\">bad <div title=\"#00000000\" style=\"display: inline-block; width: 1em; height: 1em; margin: 0; vertical-align: middle; border: 1px solid #555; background-color: #00000000;\"></div></div><div style=\"float: right;\">over <div title=\"#ff8c7dff\" style=\"display: inline-block; width: 1em; height: 1em; margin: 0; vertical-align: middle; border: 1px solid #555; background-color: #ff8c7dff;\"></div></div>"
      ],
      "text/plain": [
       "<matplotlib.colors.ListedColormap at 0x7fef60272760>"
      ]
     },
     "execution_count": 16,
     "metadata": {},
     "output_type": "execute_result"
    }
   ],
   "source": [
    "from matplotlib.colors import ListedColormap\n",
    "s_color = np.array([198, 255, 221, 255])/255\n",
    "e_color = np.array([251, 215, 134, 255])/255\n",
    "lin1 = np.linspace(0,1,128)\n",
    "color_map1 = np.expand_dims(s_color,1) + np.expand_dims((e_color - s_color),1)*np.expand_dims(lin1,0)\n",
    "s_color = np.array([251, 215, 134, 255])/255\n",
    "e_color = np.array([255, 140, 125, 255])/255\n",
    "lin2 = np.linspace(0,1,128)\n",
    "color_map2 = np.expand_dims(s_color,1) + np.expand_dims((e_color - s_color),1)*np.expand_dims(lin2,0)\n",
    "\n",
    "color_map = np.concatenate([color_map1,color_map2],1)\n",
    "cmap = ListedColormap(color_map.transpose((1,0)))\n",
    "cmap"
   ]
  },
  {
   "cell_type": "code",
   "execution_count": 21,
   "id": "7ec561b4",
   "metadata": {},
   "outputs": [
    {
     "data": {
      "image/png": "[encoded data removed]",
      "text/html": [
       "<div style=\"vertical-align: middle;\"><strong>from_list</strong> </div><div class=\"cmap\"><img alt=\"from_list colormap\" title=\"from_list\" style=\"border: 1px solid #555;\" src=\"data:image/png;base64,iVBORw0KGgoAAAANSUhEUgAAAgAAAABACAYAAABsv8+/AAAAGHRFWHRUaXRsZQBmcm9tX2xpc3QgY29sb3JtYXBDL89FAAAAHnRFWHREZXNjcmlwdGlvbgBmcm9tX2xpc3QgY29sb3JtYXABtCnOAAAAMHRFWHRBdXRob3IATWF0cGxvdGxpYiB2My41LjEsIGh0dHBzOi8vbWF0cGxvdGxpYi5vcmf3t87PAAAAMnRFWHRTb2Z0d2FyZQBNYXRwbG90bGliIHYzLjUuMSwgaHR0cHM6Ly9tYXRwbG90bGliLm9yZ9kRUegAAAFuSURBVHic7dZLDoJAFADB0fsfySt5BlxoXKDGH1G0qzbAhBdCyJDeTPvdNMYYYzoezmaX54X5+nRxss75+futdf7Gbaubf/T7LDb/4nPenf/4e658H9mHd+affM635/1vlp3/lX14sr2+DAD8MwEAAEECAACCBAAABAkAAAgSAAAQJAAAIEgAAECQAACAIAEAAEECAACCBAAABAkAAAgSAAAQJAAAIEgAAECQAACAIAEAAEECAACCBAAABAkAAAgSAAAQJAAAIEgAAECQAACAIAEAAEECAACCBAAABAkAAAgSAAAQJAAAIEgAAECQAACAIAEAAEECAACCBAAABAkAAAgSAAAQJAAAIEgAAECQAACAIAEAAEECAACCBAAABAkAAAgSAAAQJAAAIEgAAECQAACAIAEAAEECAACCBAAABAkAAAgSAAAQJAAAIEgAAECQAACAIAEAAEECAACCBAAABAkAAAgSAAAQJAAAIOgArHqjh0LWtEwAAAAASUVORK5CYII=\"></div><div style=\"vertical-align: middle; max-width: 514px; display: flex; justify-content: space-between;\"><div style=\"float: left;\"><div title=\"#ffedbcff\" style=\"display: inline-block; width: 1em; height: 1em; margin: 0; vertical-align: middle; border: 1px solid #555; background-color: #ffedbcff;\"></div> under</div><div style=\"margin: 0 auto; display: inline-block;\">bad <div title=\"#00000000\" style=\"display: inline-block; width: 1em; height: 1em; margin: 0; vertical-align: middle; border: 1px solid #555; background-color: #00000000;\"></div></div><div style=\"float: right;\">over <div title=\"#ff8c7dff\" style=\"display: inline-block; width: 1em; height: 1em; margin: 0; vertical-align: middle; border: 1px solid #555; background-color: #ff8c7dff;\"></div></div>"
      ],
      "text/plain": [
       "<matplotlib.colors.ListedColormap at 0x7f7bd3977850>"
      ]
     },
     "execution_count": 21,
     "metadata": {},
     "output_type": "execute_result"
    }
   ],
   "source": [
    "from matplotlib.colors import ListedColormap\n",
    "s_color = np.array([255, 237, 188, 255])/255\n",
    "e_color = np.array([255, 140, 125, 255])/255\n",
    "# e_color = np.array([255, 140, 125, 255])/255\n",
    "lin = np.linspace(0,1,256)\n",
    "np.expand_dims((e_color - s_color),1)*np.expand_dims(lin,0)\n",
    "\n",
    "color_map = np.expand_dims(s_color,1) + np.expand_dims((e_color - s_color),1)*np.expand_dims(lin,0)\n",
    "cmap = ListedColormap(color_map.transpose((1,0)))\n",
    "cmap\n"
   ]
  },
  {
   "cell_type": "code",
   "execution_count": 20,
   "id": "357be054",
   "metadata": {},
   "outputs": [
    {
     "data": {
      "application/vnd.jupyter.widget-view+json": {
       "model_id": "47b3ef7e805f46208bc97e404cd2e498",
       "version_major": 2,
       "version_minor": 0
      },
      "text/plain": [
       "ViewInteractiveWidget(height=768, layout=Layout(height='auto', width='100%'), width=1024)"
      ]
     },
     "metadata": {},
     "output_type": "display_data"
    },
    {
     "data": {
      "application/vnd.jupyter.widget-view+json": {
       "model_id": "5dab6bad478e47d4b8ed822a02efa52a",
       "version_major": 2,
       "version_minor": 0
      },
      "text/plain": [
       "ViewInteractiveWidget(height=768, layout=Layout(height='auto', width='100%'), width=1024)"
      ]
     },
     "metadata": {},
     "output_type": "display_data"
    },
    {
     "data": {
      "application/vnd.jupyter.widget-view+json": {
       "model_id": "a04ce58a385546baaa647a03e3575ace",
       "version_major": 2,
       "version_minor": 0
      },
      "text/plain": [
       "ViewInteractiveWidget(height=768, layout=Layout(height='auto', width='100%'), width=1024)"
      ]
     },
     "metadata": {},
     "output_type": "display_data"
    }
   ],
   "source": [
    "plotter = visualize_batch(A, B, new_aug, cmap, point_size=point_size, camera_position=camera_pos,\n",
    "                A_weight=A_weight[:3], B_weight=B_weight[:3], aug_weight=aug_weight, \n",
    "               )"
   ]
  },
  {
   "cell_type": "code",
   "execution_count": 21,
   "id": "e0e6aaf3",
   "metadata": {},
   "outputs": [
    {
     "data": {
      "application/vnd.jupyter.widget-view+json": {
       "model_id": "cb3f9424e1d54ebb94820315a1393e85",
       "version_major": 2,
       "version_minor": 0
      },
      "text/plain": [
       "ViewInteractiveWidget(height=768, layout=Layout(height='auto', width='100%'), width=1024)"
      ]
     },
     "metadata": {},
     "output_type": "display_data"
    },
    {
     "data": {
      "application/vnd.jupyter.widget-view+json": {
       "model_id": "b9a4122c928340f48723d0e037387b22",
       "version_major": 2,
       "version_minor": 0
      },
      "text/plain": [
       "ViewInteractiveWidget(height=768, layout=Layout(height='auto', width='100%'), width=1024)"
      ]
     },
     "metadata": {},
     "output_type": "display_data"
    },
    {
     "data": {
      "application/vnd.jupyter.widget-view+json": {
       "model_id": "36aa45ab28d8473c92480ca204621a81",
       "version_major": 2,
       "version_minor": 0
      },
      "text/plain": [
       "ViewInteractiveWidget(height=768, layout=Layout(height='auto', width='100%'), width=1024)"
      ]
     },
     "metadata": {},
     "output_type": "display_data"
    }
   ],
   "source": [
    "if isinstance(A, torch.Tensor):\n",
    "    A = A.cpu().numpy()\n",
    "    B = B.cpu().numpy()\n",
    "    aug = new_aug.cpu().numpy()\n",
    "\n",
    "\n",
    "index = range(len(aug))\n",
    "\n",
    "for i in index:\n",
    "    plotter = pv.Plotter(notebook=True, shape=(1,3))\n",
    "\n",
    "    plotter.subplot(0, 0)\n",
    "    plotter.background_color = \"W\"\n",
    "    point_cloud = pv.PolyData(A[i][:,[0,2,1]])\n",
    "    # point_cloud['y'] = np.zeros(len(A[i]))\n",
    "    point_cloud['y'] = A_weight[i]\n",
    "    plotter.add_points(point_cloud, point_size=point_size, render_points_as_spheres=True, cmap=cmap)\n",
    "    plotter.camera_position = camera_pos\n",
    "    get_shadow(plotter, A[i][:,[0,2,1]], point_size)\n",
    "\n",
    "    plotter.subplot(0, 1)\n",
    "    plotter.background_color = \"W\"\n",
    "    point_cloud = pv.PolyData(aug[i][:,[0,2,1]])\n",
    "    point_cloud['y'] = new_weight[i]\n",
    "    plotter.add_points(point_cloud, point_size=point_size, render_points_as_spheres=True, cmap=cmap)\n",
    "    plotter.camera_position = camera_pos\n",
    "    get_shadow(plotter, aug[i][:,[0,2,1]], point_size)\n",
    "\n",
    "    plotter.subplot(0, 2)\n",
    "    plotter.background_color = \"W\"\n",
    "    point_cloud = pv.PolyData(B[i][:,[0,2,1]])\n",
    "    # point_cloud['y'] = np.ones(len(B[i]))\n",
    "    point_cloud['y'] = B_weight[i]\n",
    "    plotter.add_points(point_cloud, point_size=point_size, render_points_as_spheres=True, cmap=cmap)\n",
    "    plotter.camera_position = camera_pos\n",
    "    get_shadow(plotter, B[i][:,[0,2,1]], point_size)\n",
    "\n",
    "    light = pv.Light(intensity=0.25, shadow_attenuation = 0)\n",
    "    light.set_direction_angle(30,0)\n",
    "    plotter.add_light(light)\n",
    "    light = pv.Light(intensity=0.20, shadow_attenuation = 0)\n",
    "    light.set_direction_angle(30,180)\n",
    "    plotter.add_light(light)\n",
    "\n",
    "    plotter.show()\n"
   ]
  },
  {
   "cell_type": "code",
   "execution_count": null,
   "id": "cb2efb24",
   "metadata": {},
   "outputs": [],
   "source": []
  }
 ],
 "metadata": {
  "interpreter": {
   "hash": "e1ba81c0e58acc86b636aee8068c0180c3b2df378fe25dcac762937aa1e8ab4a"
  },
  "kernelspec": {
   "display_name": "Python 3 (ipykernel)",
   "language": "python",
   "name": "python3"
  },
  "language_info": {
   "codemirror_mode": {
    "name": "ipython",
    "version": 3
   },
   "file_extension": ".py",
   "mimetype": "text/x-python",
   "name": "python",
   "nbconvert_exporter": "python",
   "pygments_lexer": "ipython3",
   "version": "3.9.7"
  }
 },
 "nbformat": 4,
 "nbformat_minor": 5
}
